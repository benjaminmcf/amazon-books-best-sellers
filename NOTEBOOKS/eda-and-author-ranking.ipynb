{
 "cells": [
  {
   "cell_type": "markdown",
   "id": "500e1273",
   "metadata": {
    "papermill": {
     "duration": 0.007688,
     "end_time": "2023-11-28T04:22:40.955349",
     "exception": false,
     "start_time": "2023-11-28T04:22:40.947661",
     "status": "completed"
    },
    "tags": []
   },
   "source": [
    "# Objective of the Analysis\n",
    "\n",
    "The purpose of this analysis is to perform a quick EDA of the top 100 trending books dataset, and rank the authors based on the books in the top 100. \n",
    "\n",
    "As there are authors that have multiple books in the top 100, we need a scoring system. A simple approach is to provide a points value for the book placing i.e. 1st place book gets 100 points, 2nd place gets 99 points and so on. I use this method to then rank the authors based on the totality of books that they have in the top 100 list. This system weights how prolific an author is, rather than just their ranking.\n",
    "\n",
    "The remainder of this notebook presents the analysis. "
   ]
  },
  {
   "cell_type": "markdown",
   "id": "146621ea",
   "metadata": {
    "papermill": {
     "duration": 0.006748,
     "end_time": "2023-11-28T04:22:40.972000",
     "exception": false,
     "start_time": "2023-11-28T04:22:40.965252",
     "status": "completed"
    },
    "tags": []
   },
   "source": [
    "# Analysis Summary - Last run on the 28th November 2023\n",
    "\n",
    "Sarah J Maas is the clear top author based on this analysis as she has 4 books and 1 box set in the top 100. After that, Rebecca Yarros comes in at second with both books sitting inside the top 10, and the only author in the top 10 ranked authors to achieve this. \n",
    "\n",
    "This is unsurprising considering that the court of Thorns and Roses series by Sarah J Maas and the Fourth Wing and Iron Flame books both by Rebecca Yarros have all been very popular and trending on Tiktok.\n",
    "\n"
   ]
  },
  {
   "cell_type": "markdown",
   "id": "aa258189",
   "metadata": {
    "papermill": {
     "duration": 0.007211,
     "end_time": "2023-11-28T04:22:40.986316",
     "exception": false,
     "start_time": "2023-11-28T04:22:40.979105",
     "status": "completed"
    },
    "tags": []
   },
   "source": [
    "# Import libraries"
   ]
  },
  {
   "cell_type": "code",
   "execution_count": 45,
   "id": "33b7e30f",
   "metadata": {
    "execution": {
     "iopub.execute_input": "2023-11-28T04:22:41.002987Z",
     "iopub.status.busy": "2023-11-28T04:22:41.002533Z",
     "iopub.status.idle": "2023-11-28T04:22:42.421289Z",
     "shell.execute_reply": "2023-11-28T04:22:42.419981Z"
    },
    "papermill": {
     "duration": 1.431129,
     "end_time": "2023-11-28T04:22:42.424614",
     "exception": false,
     "start_time": "2023-11-28T04:22:40.993485",
     "status": "completed"
    },
    "tags": []
   },
   "outputs": [],
   "source": [
    "import numpy as np \n",
    "import pandas as pd\n",
    "import plotly.express as px\n",
    "\n",
    "import os"
   ]
  },
  {
   "cell_type": "markdown",
   "id": "e662bbe1",
   "metadata": {
    "papermill": {
     "duration": 0.00821,
     "end_time": "2023-11-28T04:22:42.487158",
     "exception": false,
     "start_time": "2023-11-28T04:22:42.478948",
     "status": "completed"
    },
    "tags": []
   },
   "source": [
    "# Import Data"
   ]
  },
  {
   "cell_type": "code",
   "execution_count": 46,
   "id": "eba6881b",
   "metadata": {
    "execution": {
     "iopub.execute_input": "2023-11-28T04:22:42.504482Z",
     "iopub.status.busy": "2023-11-28T04:22:42.503388Z",
     "iopub.status.idle": "2023-11-28T04:22:42.527808Z",
     "shell.execute_reply": "2023-11-28T04:22:42.526920Z"
    },
    "papermill": {
     "duration": 0.036178,
     "end_time": "2023-11-28T04:22:42.530740",
     "exception": false,
     "start_time": "2023-11-28T04:22:42.494562",
     "status": "completed"
    },
    "tags": []
   },
   "outputs": [],
   "source": [
    "df = pd.read_csv('../DATA/Top-100 Trending Books.csv')"
   ]
  },
  {
   "cell_type": "markdown",
   "id": "50a3f39f",
   "metadata": {
    "papermill": {
     "duration": 0.007045,
     "end_time": "2023-11-28T04:22:42.545342",
     "exception": false,
     "start_time": "2023-11-28T04:22:42.538297",
     "status": "completed"
    },
    "tags": []
   },
   "source": [
    "# Exploratory data analysis (EDA)"
   ]
  },
  {
   "cell_type": "code",
   "execution_count": 47,
   "id": "245c30ac",
   "metadata": {
    "execution": {
     "iopub.execute_input": "2023-11-28T04:22:42.562482Z",
     "iopub.status.busy": "2023-11-28T04:22:42.562050Z",
     "iopub.status.idle": "2023-11-28T04:22:42.599363Z",
     "shell.execute_reply": "2023-11-28T04:22:42.598004Z"
    },
    "papermill": {
     "duration": 0.049356,
     "end_time": "2023-11-28T04:22:42.602230",
     "exception": false,
     "start_time": "2023-11-28T04:22:42.552874",
     "status": "completed"
    },
    "tags": []
   },
   "outputs": [
    {
     "data": {
      "text/html": [
       "<div>\n",
       "<style scoped>\n",
       "    .dataframe tbody tr th:only-of-type {\n",
       "        vertical-align: middle;\n",
       "    }\n",
       "\n",
       "    .dataframe tbody tr th {\n",
       "        vertical-align: top;\n",
       "    }\n",
       "\n",
       "    .dataframe thead th {\n",
       "        text-align: right;\n",
       "    }\n",
       "</style>\n",
       "<table border=\"1\" class=\"dataframe\">\n",
       "  <thead>\n",
       "    <tr style=\"text-align: right;\">\n",
       "      <th></th>\n",
       "      <th>Rank</th>\n",
       "      <th>book title</th>\n",
       "      <th>book price</th>\n",
       "      <th>rating</th>\n",
       "      <th>author</th>\n",
       "      <th>year of publication</th>\n",
       "      <th>genre</th>\n",
       "      <th>url</th>\n",
       "    </tr>\n",
       "  </thead>\n",
       "  <tbody>\n",
       "    <tr>\n",
       "      <th>0</th>\n",
       "      <td>1</td>\n",
       "      <td>Iron Flame (The Empyrean, 2)</td>\n",
       "      <td>18.42</td>\n",
       "      <td>4.1</td>\n",
       "      <td>Rebecca Yarros</td>\n",
       "      <td>2023</td>\n",
       "      <td>Fantasy Romance</td>\n",
       "      <td>amazon.com/Iron-Flame-Empyrean-Rebecca-Yarros/...</td>\n",
       "    </tr>\n",
       "    <tr>\n",
       "      <th>1</th>\n",
       "      <td>2</td>\n",
       "      <td>The Woman in Me</td>\n",
       "      <td>20.93</td>\n",
       "      <td>4.5</td>\n",
       "      <td>Britney Spears</td>\n",
       "      <td>2023</td>\n",
       "      <td>Memoir</td>\n",
       "      <td>amazon.com/Woman-Me-Britney-Spears/dp/16680090...</td>\n",
       "    </tr>\n",
       "    <tr>\n",
       "      <th>2</th>\n",
       "      <td>3</td>\n",
       "      <td>My Name Is Barbra</td>\n",
       "      <td>31.50</td>\n",
       "      <td>4.5</td>\n",
       "      <td>Barbra Streisand</td>\n",
       "      <td>2023</td>\n",
       "      <td>Autobiography</td>\n",
       "      <td>amazon.com/My-Name-Barbra-Streisand/dp/0525429...</td>\n",
       "    </tr>\n",
       "    <tr>\n",
       "      <th>3</th>\n",
       "      <td>4</td>\n",
       "      <td>Friends, Lovers, and the Big Terrible Thing: A...</td>\n",
       "      <td>23.99</td>\n",
       "      <td>4.4</td>\n",
       "      <td>Matthew Perry</td>\n",
       "      <td>2023</td>\n",
       "      <td>Memoir</td>\n",
       "      <td>amazon.com/Friends-Lovers-Big-Terrible-Thing/d...</td>\n",
       "    </tr>\n",
       "    <tr>\n",
       "      <th>4</th>\n",
       "      <td>5</td>\n",
       "      <td>How to Catch a Turkey</td>\n",
       "      <td>5.65</td>\n",
       "      <td>4.8</td>\n",
       "      <td>Adam Wallace</td>\n",
       "      <td>2018</td>\n",
       "      <td>Childrens, Fiction</td>\n",
       "      <td>amazon.com/How-Catch-Turkey-Adam-Wallace/dp/14...</td>\n",
       "    </tr>\n",
       "  </tbody>\n",
       "</table>\n",
       "</div>"
      ],
      "text/plain": [
       "   Rank                                         book title  book price  \\\n",
       "0     1                       Iron Flame (The Empyrean, 2)       18.42   \n",
       "1     2                                    The Woman in Me       20.93   \n",
       "2     3                                  My Name Is Barbra       31.50   \n",
       "3     4  Friends, Lovers, and the Big Terrible Thing: A...       23.99   \n",
       "4     5                              How to Catch a Turkey        5.65   \n",
       "\n",
       "   rating            author  year of publication               genre  \\\n",
       "0     4.1    Rebecca Yarros                 2023     Fantasy Romance   \n",
       "1     4.5    Britney Spears                 2023              Memoir   \n",
       "2     4.5  Barbra Streisand                 2023       Autobiography   \n",
       "3     4.4     Matthew Perry                 2023              Memoir   \n",
       "4     4.8      Adam Wallace                 2018  Childrens, Fiction   \n",
       "\n",
       "                                                 url  \n",
       "0  amazon.com/Iron-Flame-Empyrean-Rebecca-Yarros/...  \n",
       "1  amazon.com/Woman-Me-Britney-Spears/dp/16680090...  \n",
       "2  amazon.com/My-Name-Barbra-Streisand/dp/0525429...  \n",
       "3  amazon.com/Friends-Lovers-Big-Terrible-Thing/d...  \n",
       "4  amazon.com/How-Catch-Turkey-Adam-Wallace/dp/14...  "
      ]
     },
     "execution_count": 47,
     "metadata": {},
     "output_type": "execute_result"
    }
   ],
   "source": [
    "\"\"\"\n",
    "Check first 5 rows\n",
    "\"\"\"\n",
    "df.head(5)"
   ]
  },
  {
   "cell_type": "code",
   "execution_count": 48,
   "id": "eada743c",
   "metadata": {
    "execution": {
     "iopub.execute_input": "2023-11-28T04:22:42.620599Z",
     "iopub.status.busy": "2023-11-28T04:22:42.619893Z",
     "iopub.status.idle": "2023-11-28T04:22:42.653091Z",
     "shell.execute_reply": "2023-11-28T04:22:42.651551Z"
    },
    "papermill": {
     "duration": 0.045419,
     "end_time": "2023-11-28T04:22:42.655777",
     "exception": false,
     "start_time": "2023-11-28T04:22:42.610358",
     "status": "completed"
    },
    "tags": []
   },
   "outputs": [
    {
     "name": "stdout",
     "output_type": "stream",
     "text": [
      "<class 'pandas.core.frame.DataFrame'>\n",
      "RangeIndex: 100 entries, 0 to 99\n",
      "Data columns (total 8 columns):\n",
      " #   Column               Non-Null Count  Dtype  \n",
      "---  ------               --------------  -----  \n",
      " 0   Rank                 100 non-null    int64  \n",
      " 1   book title           100 non-null    object \n",
      " 2   book price           100 non-null    float64\n",
      " 3   rating               97 non-null     float64\n",
      " 4   author               100 non-null    object \n",
      " 5   year of publication  100 non-null    int64  \n",
      " 6   genre                100 non-null    object \n",
      " 7   url                  100 non-null    object \n",
      "dtypes: float64(2), int64(2), object(4)\n",
      "memory usage: 6.4+ KB\n"
     ]
    }
   ],
   "source": [
    "\"\"\"\n",
    "Basic information about the data\n",
    "\"\"\"\n",
    "df.info()"
   ]
  },
  {
   "cell_type": "code",
   "execution_count": 49,
   "id": "b79372aa",
   "metadata": {
    "execution": {
     "iopub.execute_input": "2023-11-28T04:22:42.674163Z",
     "iopub.status.busy": "2023-11-28T04:22:42.673715Z",
     "iopub.status.idle": "2023-11-28T04:22:42.686654Z",
     "shell.execute_reply": "2023-11-28T04:22:42.685281Z"
    },
    "papermill": {
     "duration": 0.02551,
     "end_time": "2023-11-28T04:22:42.689362",
     "exception": false,
     "start_time": "2023-11-28T04:22:42.663852",
     "status": "completed"
    },
    "tags": []
   },
   "outputs": [
    {
     "name": "stdout",
     "output_type": "stream",
     "text": [
      "Average book rating -- 4.689690721649485\n",
      "Median book rating -- 4.7\n",
      "\n",
      "Average Book Price -- 12.7086 USD\n",
      "Median Book Price -- 11.48 USD\n",
      "\n",
      "Earliest Year of publication -- 1947\n",
      "Median Year of publication -- 2019\n"
     ]
    }
   ],
   "source": [
    "\"\"\"\n",
    "Calculate some simple descriptive statistics\n",
    "\"\"\"\n",
    "\n",
    "# Average book rating\n",
    "print(f\"Average book rating -- {df['rating'].mean()}\")\n",
    "# Median book rating\n",
    "print(f\"Median book rating -- {df['rating'].median()}\")\n",
    "print()\n",
    "\n",
    "# Average book price\n",
    "print(f\"Average Book Price -- {df['book price'].mean()} USD\")\n",
    "# Median book price\n",
    "print(f\"Median Book Price -- {df['book price'].median()} USD\")\n",
    "print()\n",
    "\n",
    "# Earliest year of publication\n",
    "print(f\"Earliest Year of publication -- {df['year of publication'].min()}\")\n",
    "# Median year of publication\n",
    "print(f\"Median Year of publication -- {int(df['year of publication'].median())}\")\n",
    "\n",
    "\n",
    "    "
   ]
  },
  {
   "cell_type": "code",
   "execution_count": 50,
   "id": "740547d6",
   "metadata": {
    "execution": {
     "iopub.execute_input": "2023-11-28T04:22:42.707777Z",
     "iopub.status.busy": "2023-11-28T04:22:42.707317Z",
     "iopub.status.idle": "2023-11-28T04:22:45.035127Z",
     "shell.execute_reply": "2023-11-28T04:22:45.033543Z"
    },
    "papermill": {
     "duration": 2.340678,
     "end_time": "2023-11-28T04:22:45.038171",
     "exception": false,
     "start_time": "2023-11-28T04:22:42.697493",
     "status": "completed"
    },
    "tags": []
   },
   "outputs": [
    {
     "data": {
      "application/vnd.plotly.v1+json": {
       "config": {
        "plotlyServerURL": "https://plot.ly"
       },
       "data": [
        {
         "alignmentgroup": "True",
         "boxpoints": "all",
         "hovertemplate": "book price=%{y}<extra></extra>",
         "legendgroup": "",
         "marker": {
          "color": "#636efa"
         },
         "name": "",
         "notched": false,
         "offsetgroup": "",
         "orientation": "v",
         "showlegend": false,
         "type": "box",
         "x0": " ",
         "xaxis": "x",
         "y": [
          18.42,
          20.93,
          31.5,
          23.99,
          5.65,
          16.99,
          27.43,
          8.55,
          9.86,
          11.98,
          10.99,
          6.26,
          13.79,
          2.79,
          13.82,
          18.84,
          15.37,
          18.96,
          4.78,
          11.99,
          8.79,
          9.68,
          8.89,
          11.83,
          18.48,
          9.43,
          3.78,
          10.39,
          22.48,
          4.94,
          12.19,
          7.74,
          8.11,
          19.89,
          5.9,
          5.99,
          6.99,
          12.68,
          9.49,
          4.76,
          16.99,
          12.99,
          11.2,
          5.36,
          7.99,
          20.11,
          48.77,
          6.93,
          9.4,
          4.66,
          21,
          20.98,
          9.49,
          2.88,
          5.37,
          4.32,
          12.15,
          17.28,
          12.89,
          6.28,
          20.99,
          9.97,
          5.67,
          15.33,
          16.79,
          20.98,
          6.94,
          2.78,
          4.73,
          13.36,
          10.98,
          12.79,
          17.49,
          16.74,
          20.63,
          4.97,
          19.5,
          15.59,
          15.99,
          45.22,
          12.69,
          4.19,
          8.93,
          5.99,
          6.06,
          17.99,
          15.79,
          11.56,
          18.46,
          25.97,
          3.69,
          9.44,
          6.31,
          15.63,
          8.25,
          11.4,
          5.14,
          15.3,
          12.99,
          5.28
         ],
         "y0": " ",
         "yaxis": "y"
        }
       ],
       "layout": {
        "boxmode": "group",
        "legend": {
         "tracegroupgap": 0
        },
        "template": {
         "data": {
          "bar": [
           {
            "error_x": {
             "color": "#2a3f5f"
            },
            "error_y": {
             "color": "#2a3f5f"
            },
            "marker": {
             "line": {
              "color": "#E5ECF6",
              "width": 0.5
             },
             "pattern": {
              "fillmode": "overlay",
              "size": 10,
              "solidity": 0.2
             }
            },
            "type": "bar"
           }
          ],
          "barpolar": [
           {
            "marker": {
             "line": {
              "color": "#E5ECF6",
              "width": 0.5
             },
             "pattern": {
              "fillmode": "overlay",
              "size": 10,
              "solidity": 0.2
             }
            },
            "type": "barpolar"
           }
          ],
          "carpet": [
           {
            "aaxis": {
             "endlinecolor": "#2a3f5f",
             "gridcolor": "white",
             "linecolor": "white",
             "minorgridcolor": "white",
             "startlinecolor": "#2a3f5f"
            },
            "baxis": {
             "endlinecolor": "#2a3f5f",
             "gridcolor": "white",
             "linecolor": "white",
             "minorgridcolor": "white",
             "startlinecolor": "#2a3f5f"
            },
            "type": "carpet"
           }
          ],
          "choropleth": [
           {
            "colorbar": {
             "outlinewidth": 0,
             "ticks": ""
            },
            "type": "choropleth"
           }
          ],
          "contour": [
           {
            "colorbar": {
             "outlinewidth": 0,
             "ticks": ""
            },
            "colorscale": [
             [
              0,
              "#0d0887"
             ],
             [
              0.1111111111111111,
              "#46039f"
             ],
             [
              0.2222222222222222,
              "#7201a8"
             ],
             [
              0.3333333333333333,
              "#9c179e"
             ],
             [
              0.4444444444444444,
              "#bd3786"
             ],
             [
              0.5555555555555556,
              "#d8576b"
             ],
             [
              0.6666666666666666,
              "#ed7953"
             ],
             [
              0.7777777777777778,
              "#fb9f3a"
             ],
             [
              0.8888888888888888,
              "#fdca26"
             ],
             [
              1,
              "#f0f921"
             ]
            ],
            "type": "contour"
           }
          ],
          "contourcarpet": [
           {
            "colorbar": {
             "outlinewidth": 0,
             "ticks": ""
            },
            "type": "contourcarpet"
           }
          ],
          "heatmap": [
           {
            "colorbar": {
             "outlinewidth": 0,
             "ticks": ""
            },
            "colorscale": [
             [
              0,
              "#0d0887"
             ],
             [
              0.1111111111111111,
              "#46039f"
             ],
             [
              0.2222222222222222,
              "#7201a8"
             ],
             [
              0.3333333333333333,
              "#9c179e"
             ],
             [
              0.4444444444444444,
              "#bd3786"
             ],
             [
              0.5555555555555556,
              "#d8576b"
             ],
             [
              0.6666666666666666,
              "#ed7953"
             ],
             [
              0.7777777777777778,
              "#fb9f3a"
             ],
             [
              0.8888888888888888,
              "#fdca26"
             ],
             [
              1,
              "#f0f921"
             ]
            ],
            "type": "heatmap"
           }
          ],
          "heatmapgl": [
           {
            "colorbar": {
             "outlinewidth": 0,
             "ticks": ""
            },
            "colorscale": [
             [
              0,
              "#0d0887"
             ],
             [
              0.1111111111111111,
              "#46039f"
             ],
             [
              0.2222222222222222,
              "#7201a8"
             ],
             [
              0.3333333333333333,
              "#9c179e"
             ],
             [
              0.4444444444444444,
              "#bd3786"
             ],
             [
              0.5555555555555556,
              "#d8576b"
             ],
             [
              0.6666666666666666,
              "#ed7953"
             ],
             [
              0.7777777777777778,
              "#fb9f3a"
             ],
             [
              0.8888888888888888,
              "#fdca26"
             ],
             [
              1,
              "#f0f921"
             ]
            ],
            "type": "heatmapgl"
           }
          ],
          "histogram": [
           {
            "marker": {
             "pattern": {
              "fillmode": "overlay",
              "size": 10,
              "solidity": 0.2
             }
            },
            "type": "histogram"
           }
          ],
          "histogram2d": [
           {
            "colorbar": {
             "outlinewidth": 0,
             "ticks": ""
            },
            "colorscale": [
             [
              0,
              "#0d0887"
             ],
             [
              0.1111111111111111,
              "#46039f"
             ],
             [
              0.2222222222222222,
              "#7201a8"
             ],
             [
              0.3333333333333333,
              "#9c179e"
             ],
             [
              0.4444444444444444,
              "#bd3786"
             ],
             [
              0.5555555555555556,
              "#d8576b"
             ],
             [
              0.6666666666666666,
              "#ed7953"
             ],
             [
              0.7777777777777778,
              "#fb9f3a"
             ],
             [
              0.8888888888888888,
              "#fdca26"
             ],
             [
              1,
              "#f0f921"
             ]
            ],
            "type": "histogram2d"
           }
          ],
          "histogram2dcontour": [
           {
            "colorbar": {
             "outlinewidth": 0,
             "ticks": ""
            },
            "colorscale": [
             [
              0,
              "#0d0887"
             ],
             [
              0.1111111111111111,
              "#46039f"
             ],
             [
              0.2222222222222222,
              "#7201a8"
             ],
             [
              0.3333333333333333,
              "#9c179e"
             ],
             [
              0.4444444444444444,
              "#bd3786"
             ],
             [
              0.5555555555555556,
              "#d8576b"
             ],
             [
              0.6666666666666666,
              "#ed7953"
             ],
             [
              0.7777777777777778,
              "#fb9f3a"
             ],
             [
              0.8888888888888888,
              "#fdca26"
             ],
             [
              1,
              "#f0f921"
             ]
            ],
            "type": "histogram2dcontour"
           }
          ],
          "mesh3d": [
           {
            "colorbar": {
             "outlinewidth": 0,
             "ticks": ""
            },
            "type": "mesh3d"
           }
          ],
          "parcoords": [
           {
            "line": {
             "colorbar": {
              "outlinewidth": 0,
              "ticks": ""
             }
            },
            "type": "parcoords"
           }
          ],
          "pie": [
           {
            "automargin": true,
            "type": "pie"
           }
          ],
          "scatter": [
           {
            "fillpattern": {
             "fillmode": "overlay",
             "size": 10,
             "solidity": 0.2
            },
            "type": "scatter"
           }
          ],
          "scatter3d": [
           {
            "line": {
             "colorbar": {
              "outlinewidth": 0,
              "ticks": ""
             }
            },
            "marker": {
             "colorbar": {
              "outlinewidth": 0,
              "ticks": ""
             }
            },
            "type": "scatter3d"
           }
          ],
          "scattercarpet": [
           {
            "marker": {
             "colorbar": {
              "outlinewidth": 0,
              "ticks": ""
             }
            },
            "type": "scattercarpet"
           }
          ],
          "scattergeo": [
           {
            "marker": {
             "colorbar": {
              "outlinewidth": 0,
              "ticks": ""
             }
            },
            "type": "scattergeo"
           }
          ],
          "scattergl": [
           {
            "marker": {
             "colorbar": {
              "outlinewidth": 0,
              "ticks": ""
             }
            },
            "type": "scattergl"
           }
          ],
          "scattermapbox": [
           {
            "marker": {
             "colorbar": {
              "outlinewidth": 0,
              "ticks": ""
             }
            },
            "type": "scattermapbox"
           }
          ],
          "scatterpolar": [
           {
            "marker": {
             "colorbar": {
              "outlinewidth": 0,
              "ticks": ""
             }
            },
            "type": "scatterpolar"
           }
          ],
          "scatterpolargl": [
           {
            "marker": {
             "colorbar": {
              "outlinewidth": 0,
              "ticks": ""
             }
            },
            "type": "scatterpolargl"
           }
          ],
          "scatterternary": [
           {
            "marker": {
             "colorbar": {
              "outlinewidth": 0,
              "ticks": ""
             }
            },
            "type": "scatterternary"
           }
          ],
          "surface": [
           {
            "colorbar": {
             "outlinewidth": 0,
             "ticks": ""
            },
            "colorscale": [
             [
              0,
              "#0d0887"
             ],
             [
              0.1111111111111111,
              "#46039f"
             ],
             [
              0.2222222222222222,
              "#7201a8"
             ],
             [
              0.3333333333333333,
              "#9c179e"
             ],
             [
              0.4444444444444444,
              "#bd3786"
             ],
             [
              0.5555555555555556,
              "#d8576b"
             ],
             [
              0.6666666666666666,
              "#ed7953"
             ],
             [
              0.7777777777777778,
              "#fb9f3a"
             ],
             [
              0.8888888888888888,
              "#fdca26"
             ],
             [
              1,
              "#f0f921"
             ]
            ],
            "type": "surface"
           }
          ],
          "table": [
           {
            "cells": {
             "fill": {
              "color": "#EBF0F8"
             },
             "line": {
              "color": "white"
             }
            },
            "header": {
             "fill": {
              "color": "#C8D4E3"
             },
             "line": {
              "color": "white"
             }
            },
            "type": "table"
           }
          ]
         },
         "layout": {
          "annotationdefaults": {
           "arrowcolor": "#2a3f5f",
           "arrowhead": 0,
           "arrowwidth": 1
          },
          "autotypenumbers": "strict",
          "coloraxis": {
           "colorbar": {
            "outlinewidth": 0,
            "ticks": ""
           }
          },
          "colorscale": {
           "diverging": [
            [
             0,
             "#8e0152"
            ],
            [
             0.1,
             "#c51b7d"
            ],
            [
             0.2,
             "#de77ae"
            ],
            [
             0.3,
             "#f1b6da"
            ],
            [
             0.4,
             "#fde0ef"
            ],
            [
             0.5,
             "#f7f7f7"
            ],
            [
             0.6,
             "#e6f5d0"
            ],
            [
             0.7,
             "#b8e186"
            ],
            [
             0.8,
             "#7fbc41"
            ],
            [
             0.9,
             "#4d9221"
            ],
            [
             1,
             "#276419"
            ]
           ],
           "sequential": [
            [
             0,
             "#0d0887"
            ],
            [
             0.1111111111111111,
             "#46039f"
            ],
            [
             0.2222222222222222,
             "#7201a8"
            ],
            [
             0.3333333333333333,
             "#9c179e"
            ],
            [
             0.4444444444444444,
             "#bd3786"
            ],
            [
             0.5555555555555556,
             "#d8576b"
            ],
            [
             0.6666666666666666,
             "#ed7953"
            ],
            [
             0.7777777777777778,
             "#fb9f3a"
            ],
            [
             0.8888888888888888,
             "#fdca26"
            ],
            [
             1,
             "#f0f921"
            ]
           ],
           "sequentialminus": [
            [
             0,
             "#0d0887"
            ],
            [
             0.1111111111111111,
             "#46039f"
            ],
            [
             0.2222222222222222,
             "#7201a8"
            ],
            [
             0.3333333333333333,
             "#9c179e"
            ],
            [
             0.4444444444444444,
             "#bd3786"
            ],
            [
             0.5555555555555556,
             "#d8576b"
            ],
            [
             0.6666666666666666,
             "#ed7953"
            ],
            [
             0.7777777777777778,
             "#fb9f3a"
            ],
            [
             0.8888888888888888,
             "#fdca26"
            ],
            [
             1,
             "#f0f921"
            ]
           ]
          },
          "colorway": [
           "#636efa",
           "#EF553B",
           "#00cc96",
           "#ab63fa",
           "#FFA15A",
           "#19d3f3",
           "#FF6692",
           "#B6E880",
           "#FF97FF",
           "#FECB52"
          ],
          "font": {
           "color": "#2a3f5f"
          },
          "geo": {
           "bgcolor": "white",
           "lakecolor": "white",
           "landcolor": "#E5ECF6",
           "showlakes": true,
           "showland": true,
           "subunitcolor": "white"
          },
          "hoverlabel": {
           "align": "left"
          },
          "hovermode": "closest",
          "mapbox": {
           "style": "light"
          },
          "paper_bgcolor": "white",
          "plot_bgcolor": "#E5ECF6",
          "polar": {
           "angularaxis": {
            "gridcolor": "white",
            "linecolor": "white",
            "ticks": ""
           },
           "bgcolor": "#E5ECF6",
           "radialaxis": {
            "gridcolor": "white",
            "linecolor": "white",
            "ticks": ""
           }
          },
          "scene": {
           "xaxis": {
            "backgroundcolor": "#E5ECF6",
            "gridcolor": "white",
            "gridwidth": 2,
            "linecolor": "white",
            "showbackground": true,
            "ticks": "",
            "zerolinecolor": "white"
           },
           "yaxis": {
            "backgroundcolor": "#E5ECF6",
            "gridcolor": "white",
            "gridwidth": 2,
            "linecolor": "white",
            "showbackground": true,
            "ticks": "",
            "zerolinecolor": "white"
           },
           "zaxis": {
            "backgroundcolor": "#E5ECF6",
            "gridcolor": "white",
            "gridwidth": 2,
            "linecolor": "white",
            "showbackground": true,
            "ticks": "",
            "zerolinecolor": "white"
           }
          },
          "shapedefaults": {
           "line": {
            "color": "#2a3f5f"
           }
          },
          "ternary": {
           "aaxis": {
            "gridcolor": "white",
            "linecolor": "white",
            "ticks": ""
           },
           "baxis": {
            "gridcolor": "white",
            "linecolor": "white",
            "ticks": ""
           },
           "bgcolor": "#E5ECF6",
           "caxis": {
            "gridcolor": "white",
            "linecolor": "white",
            "ticks": ""
           }
          },
          "title": {
           "x": 0.05
          },
          "xaxis": {
           "automargin": true,
           "gridcolor": "white",
           "linecolor": "white",
           "ticks": "",
           "title": {
            "standoff": 15
           },
           "zerolinecolor": "white",
           "zerolinewidth": 2
          },
          "yaxis": {
           "automargin": true,
           "gridcolor": "white",
           "linecolor": "white",
           "ticks": "",
           "title": {
            "standoff": 15
           },
           "zerolinecolor": "white",
           "zerolinewidth": 2
          }
         }
        },
        "title": {
         "text": "Book Price"
        },
        "xaxis": {
         "anchor": "y",
         "domain": [
          0,
          1
         ]
        },
        "yaxis": {
         "anchor": "x",
         "domain": [
          0,
          1
         ],
         "title": {
          "text": "book price"
         }
        }
       }
      }
     },
     "metadata": {},
     "output_type": "display_data"
    },
    {
     "data": {
      "application/vnd.plotly.v1+json": {
       "config": {
        "plotlyServerURL": "https://plot.ly"
       },
       "data": [
        {
         "alignmentgroup": "True",
         "boxpoints": "all",
         "hovertemplate": "rating=%{y}<extra></extra>",
         "legendgroup": "",
         "marker": {
          "color": "#636efa"
         },
         "name": "",
         "notched": false,
         "offsetgroup": "",
         "orientation": "v",
         "showlegend": false,
         "type": "box",
         "x0": " ",
         "xaxis": "x",
         "y": [
          4.1,
          4.5,
          4.5,
          4.4,
          4.8,
          4.8,
          4.3,
          4.8,
          4.4,
          4.5,
          4.6,
          4.7,
          4.8,
          4.8,
          4.7,
          4.6,
          4.6,
          4.1,
          4.9,
          4.8,
          4.8,
          4.8,
          4.6,
          4.5,
          null,
          4.8,
          4.9,
          4.8,
          4.8,
          4.9,
          4.9,
          4.7,
          4.5,
          4.5,
          4.9,
          4.8,
          4.9,
          4.7,
          4.6,
          4.9,
          4.7,
          4.6,
          4.8,
          4.9,
          4.7,
          null,
          4.8,
          4.8,
          4.9,
          4.8,
          4.4,
          5,
          4.6,
          4.8,
          4.9,
          4.9,
          4.8,
          4.6,
          4.6,
          4.8,
          4.7,
          4.8,
          4.7,
          4.3,
          4.6,
          4.7,
          4.8,
          4.7,
          4.9,
          4.4,
          4.6,
          4.8,
          4.7,
          4.6,
          4.6,
          4.9,
          4.6,
          4.7,
          4.6,
          4.9,
          4.6,
          4.8,
          4.5,
          4.8,
          4.8,
          null,
          4.6,
          4.8,
          4.7,
          4.9,
          4.9,
          4.2,
          4.7,
          4.7,
          4.6,
          4.7,
          4.7,
          4.5,
          4.6,
          4.8
         ],
         "y0": " ",
         "yaxis": "y"
        }
       ],
       "layout": {
        "boxmode": "group",
        "legend": {
         "tracegroupgap": 0
        },
        "template": {
         "data": {
          "bar": [
           {
            "error_x": {
             "color": "#2a3f5f"
            },
            "error_y": {
             "color": "#2a3f5f"
            },
            "marker": {
             "line": {
              "color": "#E5ECF6",
              "width": 0.5
             },
             "pattern": {
              "fillmode": "overlay",
              "size": 10,
              "solidity": 0.2
             }
            },
            "type": "bar"
           }
          ],
          "barpolar": [
           {
            "marker": {
             "line": {
              "color": "#E5ECF6",
              "width": 0.5
             },
             "pattern": {
              "fillmode": "overlay",
              "size": 10,
              "solidity": 0.2
             }
            },
            "type": "barpolar"
           }
          ],
          "carpet": [
           {
            "aaxis": {
             "endlinecolor": "#2a3f5f",
             "gridcolor": "white",
             "linecolor": "white",
             "minorgridcolor": "white",
             "startlinecolor": "#2a3f5f"
            },
            "baxis": {
             "endlinecolor": "#2a3f5f",
             "gridcolor": "white",
             "linecolor": "white",
             "minorgridcolor": "white",
             "startlinecolor": "#2a3f5f"
            },
            "type": "carpet"
           }
          ],
          "choropleth": [
           {
            "colorbar": {
             "outlinewidth": 0,
             "ticks": ""
            },
            "type": "choropleth"
           }
          ],
          "contour": [
           {
            "colorbar": {
             "outlinewidth": 0,
             "ticks": ""
            },
            "colorscale": [
             [
              0,
              "#0d0887"
             ],
             [
              0.1111111111111111,
              "#46039f"
             ],
             [
              0.2222222222222222,
              "#7201a8"
             ],
             [
              0.3333333333333333,
              "#9c179e"
             ],
             [
              0.4444444444444444,
              "#bd3786"
             ],
             [
              0.5555555555555556,
              "#d8576b"
             ],
             [
              0.6666666666666666,
              "#ed7953"
             ],
             [
              0.7777777777777778,
              "#fb9f3a"
             ],
             [
              0.8888888888888888,
              "#fdca26"
             ],
             [
              1,
              "#f0f921"
             ]
            ],
            "type": "contour"
           }
          ],
          "contourcarpet": [
           {
            "colorbar": {
             "outlinewidth": 0,
             "ticks": ""
            },
            "type": "contourcarpet"
           }
          ],
          "heatmap": [
           {
            "colorbar": {
             "outlinewidth": 0,
             "ticks": ""
            },
            "colorscale": [
             [
              0,
              "#0d0887"
             ],
             [
              0.1111111111111111,
              "#46039f"
             ],
             [
              0.2222222222222222,
              "#7201a8"
             ],
             [
              0.3333333333333333,
              "#9c179e"
             ],
             [
              0.4444444444444444,
              "#bd3786"
             ],
             [
              0.5555555555555556,
              "#d8576b"
             ],
             [
              0.6666666666666666,
              "#ed7953"
             ],
             [
              0.7777777777777778,
              "#fb9f3a"
             ],
             [
              0.8888888888888888,
              "#fdca26"
             ],
             [
              1,
              "#f0f921"
             ]
            ],
            "type": "heatmap"
           }
          ],
          "heatmapgl": [
           {
            "colorbar": {
             "outlinewidth": 0,
             "ticks": ""
            },
            "colorscale": [
             [
              0,
              "#0d0887"
             ],
             [
              0.1111111111111111,
              "#46039f"
             ],
             [
              0.2222222222222222,
              "#7201a8"
             ],
             [
              0.3333333333333333,
              "#9c179e"
             ],
             [
              0.4444444444444444,
              "#bd3786"
             ],
             [
              0.5555555555555556,
              "#d8576b"
             ],
             [
              0.6666666666666666,
              "#ed7953"
             ],
             [
              0.7777777777777778,
              "#fb9f3a"
             ],
             [
              0.8888888888888888,
              "#fdca26"
             ],
             [
              1,
              "#f0f921"
             ]
            ],
            "type": "heatmapgl"
           }
          ],
          "histogram": [
           {
            "marker": {
             "pattern": {
              "fillmode": "overlay",
              "size": 10,
              "solidity": 0.2
             }
            },
            "type": "histogram"
           }
          ],
          "histogram2d": [
           {
            "colorbar": {
             "outlinewidth": 0,
             "ticks": ""
            },
            "colorscale": [
             [
              0,
              "#0d0887"
             ],
             [
              0.1111111111111111,
              "#46039f"
             ],
             [
              0.2222222222222222,
              "#7201a8"
             ],
             [
              0.3333333333333333,
              "#9c179e"
             ],
             [
              0.4444444444444444,
              "#bd3786"
             ],
             [
              0.5555555555555556,
              "#d8576b"
             ],
             [
              0.6666666666666666,
              "#ed7953"
             ],
             [
              0.7777777777777778,
              "#fb9f3a"
             ],
             [
              0.8888888888888888,
              "#fdca26"
             ],
             [
              1,
              "#f0f921"
             ]
            ],
            "type": "histogram2d"
           }
          ],
          "histogram2dcontour": [
           {
            "colorbar": {
             "outlinewidth": 0,
             "ticks": ""
            },
            "colorscale": [
             [
              0,
              "#0d0887"
             ],
             [
              0.1111111111111111,
              "#46039f"
             ],
             [
              0.2222222222222222,
              "#7201a8"
             ],
             [
              0.3333333333333333,
              "#9c179e"
             ],
             [
              0.4444444444444444,
              "#bd3786"
             ],
             [
              0.5555555555555556,
              "#d8576b"
             ],
             [
              0.6666666666666666,
              "#ed7953"
             ],
             [
              0.7777777777777778,
              "#fb9f3a"
             ],
             [
              0.8888888888888888,
              "#fdca26"
             ],
             [
              1,
              "#f0f921"
             ]
            ],
            "type": "histogram2dcontour"
           }
          ],
          "mesh3d": [
           {
            "colorbar": {
             "outlinewidth": 0,
             "ticks": ""
            },
            "type": "mesh3d"
           }
          ],
          "parcoords": [
           {
            "line": {
             "colorbar": {
              "outlinewidth": 0,
              "ticks": ""
             }
            },
            "type": "parcoords"
           }
          ],
          "pie": [
           {
            "automargin": true,
            "type": "pie"
           }
          ],
          "scatter": [
           {
            "fillpattern": {
             "fillmode": "overlay",
             "size": 10,
             "solidity": 0.2
            },
            "type": "scatter"
           }
          ],
          "scatter3d": [
           {
            "line": {
             "colorbar": {
              "outlinewidth": 0,
              "ticks": ""
             }
            },
            "marker": {
             "colorbar": {
              "outlinewidth": 0,
              "ticks": ""
             }
            },
            "type": "scatter3d"
           }
          ],
          "scattercarpet": [
           {
            "marker": {
             "colorbar": {
              "outlinewidth": 0,
              "ticks": ""
             }
            },
            "type": "scattercarpet"
           }
          ],
          "scattergeo": [
           {
            "marker": {
             "colorbar": {
              "outlinewidth": 0,
              "ticks": ""
             }
            },
            "type": "scattergeo"
           }
          ],
          "scattergl": [
           {
            "marker": {
             "colorbar": {
              "outlinewidth": 0,
              "ticks": ""
             }
            },
            "type": "scattergl"
           }
          ],
          "scattermapbox": [
           {
            "marker": {
             "colorbar": {
              "outlinewidth": 0,
              "ticks": ""
             }
            },
            "type": "scattermapbox"
           }
          ],
          "scatterpolar": [
           {
            "marker": {
             "colorbar": {
              "outlinewidth": 0,
              "ticks": ""
             }
            },
            "type": "scatterpolar"
           }
          ],
          "scatterpolargl": [
           {
            "marker": {
             "colorbar": {
              "outlinewidth": 0,
              "ticks": ""
             }
            },
            "type": "scatterpolargl"
           }
          ],
          "scatterternary": [
           {
            "marker": {
             "colorbar": {
              "outlinewidth": 0,
              "ticks": ""
             }
            },
            "type": "scatterternary"
           }
          ],
          "surface": [
           {
            "colorbar": {
             "outlinewidth": 0,
             "ticks": ""
            },
            "colorscale": [
             [
              0,
              "#0d0887"
             ],
             [
              0.1111111111111111,
              "#46039f"
             ],
             [
              0.2222222222222222,
              "#7201a8"
             ],
             [
              0.3333333333333333,
              "#9c179e"
             ],
             [
              0.4444444444444444,
              "#bd3786"
             ],
             [
              0.5555555555555556,
              "#d8576b"
             ],
             [
              0.6666666666666666,
              "#ed7953"
             ],
             [
              0.7777777777777778,
              "#fb9f3a"
             ],
             [
              0.8888888888888888,
              "#fdca26"
             ],
             [
              1,
              "#f0f921"
             ]
            ],
            "type": "surface"
           }
          ],
          "table": [
           {
            "cells": {
             "fill": {
              "color": "#EBF0F8"
             },
             "line": {
              "color": "white"
             }
            },
            "header": {
             "fill": {
              "color": "#C8D4E3"
             },
             "line": {
              "color": "white"
             }
            },
            "type": "table"
           }
          ]
         },
         "layout": {
          "annotationdefaults": {
           "arrowcolor": "#2a3f5f",
           "arrowhead": 0,
           "arrowwidth": 1
          },
          "autotypenumbers": "strict",
          "coloraxis": {
           "colorbar": {
            "outlinewidth": 0,
            "ticks": ""
           }
          },
          "colorscale": {
           "diverging": [
            [
             0,
             "#8e0152"
            ],
            [
             0.1,
             "#c51b7d"
            ],
            [
             0.2,
             "#de77ae"
            ],
            [
             0.3,
             "#f1b6da"
            ],
            [
             0.4,
             "#fde0ef"
            ],
            [
             0.5,
             "#f7f7f7"
            ],
            [
             0.6,
             "#e6f5d0"
            ],
            [
             0.7,
             "#b8e186"
            ],
            [
             0.8,
             "#7fbc41"
            ],
            [
             0.9,
             "#4d9221"
            ],
            [
             1,
             "#276419"
            ]
           ],
           "sequential": [
            [
             0,
             "#0d0887"
            ],
            [
             0.1111111111111111,
             "#46039f"
            ],
            [
             0.2222222222222222,
             "#7201a8"
            ],
            [
             0.3333333333333333,
             "#9c179e"
            ],
            [
             0.4444444444444444,
             "#bd3786"
            ],
            [
             0.5555555555555556,
             "#d8576b"
            ],
            [
             0.6666666666666666,
             "#ed7953"
            ],
            [
             0.7777777777777778,
             "#fb9f3a"
            ],
            [
             0.8888888888888888,
             "#fdca26"
            ],
            [
             1,
             "#f0f921"
            ]
           ],
           "sequentialminus": [
            [
             0,
             "#0d0887"
            ],
            [
             0.1111111111111111,
             "#46039f"
            ],
            [
             0.2222222222222222,
             "#7201a8"
            ],
            [
             0.3333333333333333,
             "#9c179e"
            ],
            [
             0.4444444444444444,
             "#bd3786"
            ],
            [
             0.5555555555555556,
             "#d8576b"
            ],
            [
             0.6666666666666666,
             "#ed7953"
            ],
            [
             0.7777777777777778,
             "#fb9f3a"
            ],
            [
             0.8888888888888888,
             "#fdca26"
            ],
            [
             1,
             "#f0f921"
            ]
           ]
          },
          "colorway": [
           "#636efa",
           "#EF553B",
           "#00cc96",
           "#ab63fa",
           "#FFA15A",
           "#19d3f3",
           "#FF6692",
           "#B6E880",
           "#FF97FF",
           "#FECB52"
          ],
          "font": {
           "color": "#2a3f5f"
          },
          "geo": {
           "bgcolor": "white",
           "lakecolor": "white",
           "landcolor": "#E5ECF6",
           "showlakes": true,
           "showland": true,
           "subunitcolor": "white"
          },
          "hoverlabel": {
           "align": "left"
          },
          "hovermode": "closest",
          "mapbox": {
           "style": "light"
          },
          "paper_bgcolor": "white",
          "plot_bgcolor": "#E5ECF6",
          "polar": {
           "angularaxis": {
            "gridcolor": "white",
            "linecolor": "white",
            "ticks": ""
           },
           "bgcolor": "#E5ECF6",
           "radialaxis": {
            "gridcolor": "white",
            "linecolor": "white",
            "ticks": ""
           }
          },
          "scene": {
           "xaxis": {
            "backgroundcolor": "#E5ECF6",
            "gridcolor": "white",
            "gridwidth": 2,
            "linecolor": "white",
            "showbackground": true,
            "ticks": "",
            "zerolinecolor": "white"
           },
           "yaxis": {
            "backgroundcolor": "#E5ECF6",
            "gridcolor": "white",
            "gridwidth": 2,
            "linecolor": "white",
            "showbackground": true,
            "ticks": "",
            "zerolinecolor": "white"
           },
           "zaxis": {
            "backgroundcolor": "#E5ECF6",
            "gridcolor": "white",
            "gridwidth": 2,
            "linecolor": "white",
            "showbackground": true,
            "ticks": "",
            "zerolinecolor": "white"
           }
          },
          "shapedefaults": {
           "line": {
            "color": "#2a3f5f"
           }
          },
          "ternary": {
           "aaxis": {
            "gridcolor": "white",
            "linecolor": "white",
            "ticks": ""
           },
           "baxis": {
            "gridcolor": "white",
            "linecolor": "white",
            "ticks": ""
           },
           "bgcolor": "#E5ECF6",
           "caxis": {
            "gridcolor": "white",
            "linecolor": "white",
            "ticks": ""
           }
          },
          "title": {
           "x": 0.05
          },
          "xaxis": {
           "automargin": true,
           "gridcolor": "white",
           "linecolor": "white",
           "ticks": "",
           "title": {
            "standoff": 15
           },
           "zerolinecolor": "white",
           "zerolinewidth": 2
          },
          "yaxis": {
           "automargin": true,
           "gridcolor": "white",
           "linecolor": "white",
           "ticks": "",
           "title": {
            "standoff": 15
           },
           "zerolinecolor": "white",
           "zerolinewidth": 2
          }
         }
        },
        "title": {
         "text": "Book ratings"
        },
        "xaxis": {
         "anchor": "y",
         "domain": [
          0,
          1
         ]
        },
        "yaxis": {
         "anchor": "x",
         "domain": [
          0,
          1
         ],
         "title": {
          "text": "rating"
         }
        }
       }
      }
     },
     "metadata": {},
     "output_type": "display_data"
    }
   ],
   "source": [
    "\"\"\"\n",
    "Box plots for:\n",
    "1- Book price\n",
    "2- Book rating\n",
    "\"\"\"\n",
    "\n",
    "\n",
    "# Create the box plot\n",
    "book_price_plot = px.box(df, y='book price', points=\"all\", title=\"Book Price\")\n",
    "book_rating_plot = px.box(df,y='rating',points='all',title='Book ratings')\n",
    "\n",
    "# Show the plot\n",
    "book_price_plot.show()\n",
    "book_rating_plot.show()"
   ]
  },
  {
   "cell_type": "code",
   "execution_count": 51,
   "id": "3dbf057e",
   "metadata": {
    "execution": {
     "iopub.execute_input": "2023-11-28T04:22:45.059471Z",
     "iopub.status.busy": "2023-11-28T04:22:45.058972Z",
     "iopub.status.idle": "2023-11-28T04:22:45.079885Z",
     "shell.execute_reply": "2023-11-28T04:22:45.078577Z"
    },
    "papermill": {
     "duration": 0.035234,
     "end_time": "2023-11-28T04:22:45.082591",
     "exception": false,
     "start_time": "2023-11-28T04:22:45.047357",
     "status": "completed"
    },
    "tags": []
   },
   "outputs": [
    {
     "data": {
      "text/html": [
       "<div>\n",
       "<style scoped>\n",
       "    .dataframe tbody tr th:only-of-type {\n",
       "        vertical-align: middle;\n",
       "    }\n",
       "\n",
       "    .dataframe tbody tr th {\n",
       "        vertical-align: top;\n",
       "    }\n",
       "\n",
       "    .dataframe thead th {\n",
       "        text-align: right;\n",
       "    }\n",
       "</style>\n",
       "<table border=\"1\" class=\"dataframe\">\n",
       "  <thead>\n",
       "    <tr style=\"text-align: right;\">\n",
       "      <th></th>\n",
       "      <th>Genre</th>\n",
       "      <th>count</th>\n",
       "    </tr>\n",
       "  </thead>\n",
       "  <tbody>\n",
       "    <tr>\n",
       "      <th>0</th>\n",
       "      <td>Nonfiction</td>\n",
       "      <td>6</td>\n",
       "    </tr>\n",
       "    <tr>\n",
       "      <th>1</th>\n",
       "      <td>Childrens, literature</td>\n",
       "      <td>5</td>\n",
       "    </tr>\n",
       "    <tr>\n",
       "      <th>2</th>\n",
       "      <td>Childrens</td>\n",
       "      <td>4</td>\n",
       "    </tr>\n",
       "    <tr>\n",
       "      <th>3</th>\n",
       "      <td>Memoir</td>\n",
       "      <td>3</td>\n",
       "    </tr>\n",
       "    <tr>\n",
       "      <th>4</th>\n",
       "      <td>Fantasy</td>\n",
       "      <td>3</td>\n",
       "    </tr>\n",
       "  </tbody>\n",
       "</table>\n",
       "</div>"
      ],
      "text/plain": [
       "                   Genre  count\n",
       "0             Nonfiction      6\n",
       "1  Childrens, literature      5\n",
       "2              Childrens      4\n",
       "3                 Memoir      3\n",
       "4                Fantasy      3"
      ]
     },
     "execution_count": 51,
     "metadata": {},
     "output_type": "execute_result"
    }
   ],
   "source": [
    "\"\"\"\n",
    "Produce the counts for each genre. Books can have multiple genres\n",
    "\"\"\"\n",
    "unique,counts = np.unique(df['genre'],return_counts = True)\n",
    "df_genre = pd.DataFrame({\n",
    "    \"Genre\":unique,\n",
    "    \"count\":counts\n",
    "})\n",
    "df_genre.sort_values(by='count',ascending=False,inplace=True)\n",
    "df_genre.reset_index(inplace=True,drop=True)\n",
    "\n",
    "df_genre.head(5)"
   ]
  },
  {
   "cell_type": "code",
   "execution_count": 52,
   "id": "e4eca81b",
   "metadata": {
    "execution": {
     "iopub.execute_input": "2023-11-28T04:22:45.104400Z",
     "iopub.status.busy": "2023-11-28T04:22:45.103918Z",
     "iopub.status.idle": "2023-11-28T04:22:45.223718Z",
     "shell.execute_reply": "2023-11-28T04:22:45.221482Z"
    },
    "papermill": {
     "duration": 0.134794,
     "end_time": "2023-11-28T04:22:45.227301",
     "exception": false,
     "start_time": "2023-11-28T04:22:45.092507",
     "status": "completed"
    },
    "tags": []
   },
   "outputs": [
    {
     "name": "stdout",
     "output_type": "stream",
     "text": [
      "Fantasy count = 15\n",
      "Fiction count = 52\n",
      "Nonfiction count = 19\n",
      "Childrens count = 32\n",
      "Romance count = 10\n",
      "Thriller count = 9\n"
     ]
    },
    {
     "data": {
      "application/vnd.plotly.v1+json": {
       "config": {
        "plotlyServerURL": "https://plot.ly"
       },
       "data": [
        {
         "alignmentgroup": "True",
         "hovertemplate": "Genre=%{x}<br>Count=%{y}<extra></extra>",
         "legendgroup": "",
         "marker": {
          "color": "#636efa",
          "pattern": {
           "shape": ""
          }
         },
         "name": "",
         "offsetgroup": "",
         "orientation": "v",
         "showlegend": false,
         "textposition": "auto",
         "type": "bar",
         "x": [
          "Fantasy",
          "Fiction",
          "Nonfiction",
          "Childrens",
          "Romance",
          "Thriller"
         ],
         "xaxis": "x",
         "y": [
          15,
          52,
          19,
          32,
          10,
          9
         ],
         "yaxis": "y"
        }
       ],
       "layout": {
        "barmode": "relative",
        "legend": {
         "tracegroupgap": 0
        },
        "template": {
         "data": {
          "bar": [
           {
            "error_x": {
             "color": "#2a3f5f"
            },
            "error_y": {
             "color": "#2a3f5f"
            },
            "marker": {
             "line": {
              "color": "#E5ECF6",
              "width": 0.5
             },
             "pattern": {
              "fillmode": "overlay",
              "size": 10,
              "solidity": 0.2
             }
            },
            "type": "bar"
           }
          ],
          "barpolar": [
           {
            "marker": {
             "line": {
              "color": "#E5ECF6",
              "width": 0.5
             },
             "pattern": {
              "fillmode": "overlay",
              "size": 10,
              "solidity": 0.2
             }
            },
            "type": "barpolar"
           }
          ],
          "carpet": [
           {
            "aaxis": {
             "endlinecolor": "#2a3f5f",
             "gridcolor": "white",
             "linecolor": "white",
             "minorgridcolor": "white",
             "startlinecolor": "#2a3f5f"
            },
            "baxis": {
             "endlinecolor": "#2a3f5f",
             "gridcolor": "white",
             "linecolor": "white",
             "minorgridcolor": "white",
             "startlinecolor": "#2a3f5f"
            },
            "type": "carpet"
           }
          ],
          "choropleth": [
           {
            "colorbar": {
             "outlinewidth": 0,
             "ticks": ""
            },
            "type": "choropleth"
           }
          ],
          "contour": [
           {
            "colorbar": {
             "outlinewidth": 0,
             "ticks": ""
            },
            "colorscale": [
             [
              0,
              "#0d0887"
             ],
             [
              0.1111111111111111,
              "#46039f"
             ],
             [
              0.2222222222222222,
              "#7201a8"
             ],
             [
              0.3333333333333333,
              "#9c179e"
             ],
             [
              0.4444444444444444,
              "#bd3786"
             ],
             [
              0.5555555555555556,
              "#d8576b"
             ],
             [
              0.6666666666666666,
              "#ed7953"
             ],
             [
              0.7777777777777778,
              "#fb9f3a"
             ],
             [
              0.8888888888888888,
              "#fdca26"
             ],
             [
              1,
              "#f0f921"
             ]
            ],
            "type": "contour"
           }
          ],
          "contourcarpet": [
           {
            "colorbar": {
             "outlinewidth": 0,
             "ticks": ""
            },
            "type": "contourcarpet"
           }
          ],
          "heatmap": [
           {
            "colorbar": {
             "outlinewidth": 0,
             "ticks": ""
            },
            "colorscale": [
             [
              0,
              "#0d0887"
             ],
             [
              0.1111111111111111,
              "#46039f"
             ],
             [
              0.2222222222222222,
              "#7201a8"
             ],
             [
              0.3333333333333333,
              "#9c179e"
             ],
             [
              0.4444444444444444,
              "#bd3786"
             ],
             [
              0.5555555555555556,
              "#d8576b"
             ],
             [
              0.6666666666666666,
              "#ed7953"
             ],
             [
              0.7777777777777778,
              "#fb9f3a"
             ],
             [
              0.8888888888888888,
              "#fdca26"
             ],
             [
              1,
              "#f0f921"
             ]
            ],
            "type": "heatmap"
           }
          ],
          "heatmapgl": [
           {
            "colorbar": {
             "outlinewidth": 0,
             "ticks": ""
            },
            "colorscale": [
             [
              0,
              "#0d0887"
             ],
             [
              0.1111111111111111,
              "#46039f"
             ],
             [
              0.2222222222222222,
              "#7201a8"
             ],
             [
              0.3333333333333333,
              "#9c179e"
             ],
             [
              0.4444444444444444,
              "#bd3786"
             ],
             [
              0.5555555555555556,
              "#d8576b"
             ],
             [
              0.6666666666666666,
              "#ed7953"
             ],
             [
              0.7777777777777778,
              "#fb9f3a"
             ],
             [
              0.8888888888888888,
              "#fdca26"
             ],
             [
              1,
              "#f0f921"
             ]
            ],
            "type": "heatmapgl"
           }
          ],
          "histogram": [
           {
            "marker": {
             "pattern": {
              "fillmode": "overlay",
              "size": 10,
              "solidity": 0.2
             }
            },
            "type": "histogram"
           }
          ],
          "histogram2d": [
           {
            "colorbar": {
             "outlinewidth": 0,
             "ticks": ""
            },
            "colorscale": [
             [
              0,
              "#0d0887"
             ],
             [
              0.1111111111111111,
              "#46039f"
             ],
             [
              0.2222222222222222,
              "#7201a8"
             ],
             [
              0.3333333333333333,
              "#9c179e"
             ],
             [
              0.4444444444444444,
              "#bd3786"
             ],
             [
              0.5555555555555556,
              "#d8576b"
             ],
             [
              0.6666666666666666,
              "#ed7953"
             ],
             [
              0.7777777777777778,
              "#fb9f3a"
             ],
             [
              0.8888888888888888,
              "#fdca26"
             ],
             [
              1,
              "#f0f921"
             ]
            ],
            "type": "histogram2d"
           }
          ],
          "histogram2dcontour": [
           {
            "colorbar": {
             "outlinewidth": 0,
             "ticks": ""
            },
            "colorscale": [
             [
              0,
              "#0d0887"
             ],
             [
              0.1111111111111111,
              "#46039f"
             ],
             [
              0.2222222222222222,
              "#7201a8"
             ],
             [
              0.3333333333333333,
              "#9c179e"
             ],
             [
              0.4444444444444444,
              "#bd3786"
             ],
             [
              0.5555555555555556,
              "#d8576b"
             ],
             [
              0.6666666666666666,
              "#ed7953"
             ],
             [
              0.7777777777777778,
              "#fb9f3a"
             ],
             [
              0.8888888888888888,
              "#fdca26"
             ],
             [
              1,
              "#f0f921"
             ]
            ],
            "type": "histogram2dcontour"
           }
          ],
          "mesh3d": [
           {
            "colorbar": {
             "outlinewidth": 0,
             "ticks": ""
            },
            "type": "mesh3d"
           }
          ],
          "parcoords": [
           {
            "line": {
             "colorbar": {
              "outlinewidth": 0,
              "ticks": ""
             }
            },
            "type": "parcoords"
           }
          ],
          "pie": [
           {
            "automargin": true,
            "type": "pie"
           }
          ],
          "scatter": [
           {
            "fillpattern": {
             "fillmode": "overlay",
             "size": 10,
             "solidity": 0.2
            },
            "type": "scatter"
           }
          ],
          "scatter3d": [
           {
            "line": {
             "colorbar": {
              "outlinewidth": 0,
              "ticks": ""
             }
            },
            "marker": {
             "colorbar": {
              "outlinewidth": 0,
              "ticks": ""
             }
            },
            "type": "scatter3d"
           }
          ],
          "scattercarpet": [
           {
            "marker": {
             "colorbar": {
              "outlinewidth": 0,
              "ticks": ""
             }
            },
            "type": "scattercarpet"
           }
          ],
          "scattergeo": [
           {
            "marker": {
             "colorbar": {
              "outlinewidth": 0,
              "ticks": ""
             }
            },
            "type": "scattergeo"
           }
          ],
          "scattergl": [
           {
            "marker": {
             "colorbar": {
              "outlinewidth": 0,
              "ticks": ""
             }
            },
            "type": "scattergl"
           }
          ],
          "scattermapbox": [
           {
            "marker": {
             "colorbar": {
              "outlinewidth": 0,
              "ticks": ""
             }
            },
            "type": "scattermapbox"
           }
          ],
          "scatterpolar": [
           {
            "marker": {
             "colorbar": {
              "outlinewidth": 0,
              "ticks": ""
             }
            },
            "type": "scatterpolar"
           }
          ],
          "scatterpolargl": [
           {
            "marker": {
             "colorbar": {
              "outlinewidth": 0,
              "ticks": ""
             }
            },
            "type": "scatterpolargl"
           }
          ],
          "scatterternary": [
           {
            "marker": {
             "colorbar": {
              "outlinewidth": 0,
              "ticks": ""
             }
            },
            "type": "scatterternary"
           }
          ],
          "surface": [
           {
            "colorbar": {
             "outlinewidth": 0,
             "ticks": ""
            },
            "colorscale": [
             [
              0,
              "#0d0887"
             ],
             [
              0.1111111111111111,
              "#46039f"
             ],
             [
              0.2222222222222222,
              "#7201a8"
             ],
             [
              0.3333333333333333,
              "#9c179e"
             ],
             [
              0.4444444444444444,
              "#bd3786"
             ],
             [
              0.5555555555555556,
              "#d8576b"
             ],
             [
              0.6666666666666666,
              "#ed7953"
             ],
             [
              0.7777777777777778,
              "#fb9f3a"
             ],
             [
              0.8888888888888888,
              "#fdca26"
             ],
             [
              1,
              "#f0f921"
             ]
            ],
            "type": "surface"
           }
          ],
          "table": [
           {
            "cells": {
             "fill": {
              "color": "#EBF0F8"
             },
             "line": {
              "color": "white"
             }
            },
            "header": {
             "fill": {
              "color": "#C8D4E3"
             },
             "line": {
              "color": "white"
             }
            },
            "type": "table"
           }
          ]
         },
         "layout": {
          "annotationdefaults": {
           "arrowcolor": "#2a3f5f",
           "arrowhead": 0,
           "arrowwidth": 1
          },
          "autotypenumbers": "strict",
          "coloraxis": {
           "colorbar": {
            "outlinewidth": 0,
            "ticks": ""
           }
          },
          "colorscale": {
           "diverging": [
            [
             0,
             "#8e0152"
            ],
            [
             0.1,
             "#c51b7d"
            ],
            [
             0.2,
             "#de77ae"
            ],
            [
             0.3,
             "#f1b6da"
            ],
            [
             0.4,
             "#fde0ef"
            ],
            [
             0.5,
             "#f7f7f7"
            ],
            [
             0.6,
             "#e6f5d0"
            ],
            [
             0.7,
             "#b8e186"
            ],
            [
             0.8,
             "#7fbc41"
            ],
            [
             0.9,
             "#4d9221"
            ],
            [
             1,
             "#276419"
            ]
           ],
           "sequential": [
            [
             0,
             "#0d0887"
            ],
            [
             0.1111111111111111,
             "#46039f"
            ],
            [
             0.2222222222222222,
             "#7201a8"
            ],
            [
             0.3333333333333333,
             "#9c179e"
            ],
            [
             0.4444444444444444,
             "#bd3786"
            ],
            [
             0.5555555555555556,
             "#d8576b"
            ],
            [
             0.6666666666666666,
             "#ed7953"
            ],
            [
             0.7777777777777778,
             "#fb9f3a"
            ],
            [
             0.8888888888888888,
             "#fdca26"
            ],
            [
             1,
             "#f0f921"
            ]
           ],
           "sequentialminus": [
            [
             0,
             "#0d0887"
            ],
            [
             0.1111111111111111,
             "#46039f"
            ],
            [
             0.2222222222222222,
             "#7201a8"
            ],
            [
             0.3333333333333333,
             "#9c179e"
            ],
            [
             0.4444444444444444,
             "#bd3786"
            ],
            [
             0.5555555555555556,
             "#d8576b"
            ],
            [
             0.6666666666666666,
             "#ed7953"
            ],
            [
             0.7777777777777778,
             "#fb9f3a"
            ],
            [
             0.8888888888888888,
             "#fdca26"
            ],
            [
             1,
             "#f0f921"
            ]
           ]
          },
          "colorway": [
           "#636efa",
           "#EF553B",
           "#00cc96",
           "#ab63fa",
           "#FFA15A",
           "#19d3f3",
           "#FF6692",
           "#B6E880",
           "#FF97FF",
           "#FECB52"
          ],
          "font": {
           "color": "#2a3f5f"
          },
          "geo": {
           "bgcolor": "white",
           "lakecolor": "white",
           "landcolor": "#E5ECF6",
           "showlakes": true,
           "showland": true,
           "subunitcolor": "white"
          },
          "hoverlabel": {
           "align": "left"
          },
          "hovermode": "closest",
          "mapbox": {
           "style": "light"
          },
          "paper_bgcolor": "white",
          "plot_bgcolor": "#E5ECF6",
          "polar": {
           "angularaxis": {
            "gridcolor": "white",
            "linecolor": "white",
            "ticks": ""
           },
           "bgcolor": "#E5ECF6",
           "radialaxis": {
            "gridcolor": "white",
            "linecolor": "white",
            "ticks": ""
           }
          },
          "scene": {
           "xaxis": {
            "backgroundcolor": "#E5ECF6",
            "gridcolor": "white",
            "gridwidth": 2,
            "linecolor": "white",
            "showbackground": true,
            "ticks": "",
            "zerolinecolor": "white"
           },
           "yaxis": {
            "backgroundcolor": "#E5ECF6",
            "gridcolor": "white",
            "gridwidth": 2,
            "linecolor": "white",
            "showbackground": true,
            "ticks": "",
            "zerolinecolor": "white"
           },
           "zaxis": {
            "backgroundcolor": "#E5ECF6",
            "gridcolor": "white",
            "gridwidth": 2,
            "linecolor": "white",
            "showbackground": true,
            "ticks": "",
            "zerolinecolor": "white"
           }
          },
          "shapedefaults": {
           "line": {
            "color": "#2a3f5f"
           }
          },
          "ternary": {
           "aaxis": {
            "gridcolor": "white",
            "linecolor": "white",
            "ticks": ""
           },
           "baxis": {
            "gridcolor": "white",
            "linecolor": "white",
            "ticks": ""
           },
           "bgcolor": "#E5ECF6",
           "caxis": {
            "gridcolor": "white",
            "linecolor": "white",
            "ticks": ""
           }
          },
          "title": {
           "x": 0.05
          },
          "xaxis": {
           "automargin": true,
           "gridcolor": "white",
           "linecolor": "white",
           "ticks": "",
           "title": {
            "standoff": 15
           },
           "zerolinecolor": "white",
           "zerolinewidth": 2
          },
          "yaxis": {
           "automargin": true,
           "gridcolor": "white",
           "linecolor": "white",
           "ticks": "",
           "title": {
            "standoff": 15
           },
           "zerolinecolor": "white",
           "zerolinewidth": 2
          }
         }
        },
        "title": {
         "text": "Counts for genres"
        },
        "xaxis": {
         "anchor": "y",
         "domain": [
          0,
          1
         ],
         "title": {
          "text": "Genre"
         }
        },
        "yaxis": {
         "anchor": "x",
         "domain": [
          0,
          1
         ],
         "title": {
          "text": "Count"
         }
        }
       }
      }
     },
     "metadata": {},
     "output_type": "display_data"
    }
   ],
   "source": [
    "\"\"\"\n",
    "\n",
    "Looking at the counts of some of the common genres including\n",
    "- Fantasy\n",
    "- Fiction\n",
    "- Nonfiction\n",
    "- Childrens\n",
    "- Romance\n",
    "- Thriller\n",
    "\n",
    "\"\"\"\n",
    "\n",
    "fantasy_count = 0\n",
    "fiction_count = 0\n",
    "non_fiction_count = 0\n",
    "childrens_count = 0\n",
    "romance_count = 0\n",
    "thriller_count = 0\n",
    "\n",
    "for index,row in df.iterrows():\n",
    "    genre = df.at[index,'genre'].lower()\n",
    "    if 'fantasy' in genre:\n",
    "        fantasy_count += 1\n",
    "    \n",
    "    if 'fiction' in genre:\n",
    "        fiction_count += 1\n",
    "        \n",
    "    if 'nonfiction' in genre:\n",
    "        non_fiction_count += 1\n",
    "        \n",
    "    if 'childrens' in genre:\n",
    "        childrens_count += 1\n",
    "        \n",
    "    if 'romance' in genre:\n",
    "        romance_count += 1\n",
    "        \n",
    "    if 'thriller' in genre:\n",
    "        thriller_count += 1\n",
    "\n",
    "# Run some checks to make sure the analysis is consistent\n",
    "assert(fantasy_count == 15)\n",
    "assert(fiction_count == 52)\n",
    "assert(non_fiction_count == 19)\n",
    "assert(childrens_count == 32)\n",
    "assert(romance_count == 10)\n",
    "\n",
    "print(f\"Fantasy count = {fantasy_count}\")\n",
    "print(f\"Fiction count = {fiction_count}\")\n",
    "print(f\"Nonfiction count = {non_fiction_count}\")\n",
    "print(f\"Childrens count = {childrens_count}\")\n",
    "print(f\"Romance count = {romance_count}\")\n",
    "print(f\"Thriller count = {thriller_count}\")\n",
    "\n",
    "\n",
    "\n",
    "categories = ['Fantasy', 'Fiction', 'Nonfiction','Childrens','Romance','Thriller']\n",
    "values = [fantasy_count, fiction_count, non_fiction_count,childrens_count,romance_count,thriller_count]\n",
    "\n",
    "# Create the bar plot\n",
    "fig = px.bar(x=categories, y=values,labels={'y': 'Count','x':'Genre'}, title=\"Counts for genres\")\n",
    "\n",
    "# Show the plot\n",
    "fig.show()\n"
   ]
  },
  {
   "cell_type": "code",
   "execution_count": 53,
   "id": "8d7d0680",
   "metadata": {
    "execution": {
     "iopub.execute_input": "2023-11-28T04:22:45.255445Z",
     "iopub.status.busy": "2023-11-28T04:22:45.254365Z",
     "iopub.status.idle": "2023-11-28T04:22:45.267938Z",
     "shell.execute_reply": "2023-11-28T04:22:45.266712Z"
    },
    "papermill": {
     "duration": 0.030638,
     "end_time": "2023-11-28T04:22:45.272269",
     "exception": false,
     "start_time": "2023-11-28T04:22:45.241631",
     "status": "completed"
    },
    "tags": []
   },
   "outputs": [
    {
     "name": "stdout",
     "output_type": "stream",
     "text": [
      "rank = 1 -- Title = Iron Flame (The Empyrean, 2) -- genre = Fantasy Romance -- rating = 4.1\n",
      "\n",
      "\n",
      "rank = 2 -- Title = The Woman in Me -- genre = Memoir -- rating = 4.5\n",
      "\n",
      "\n",
      "rank = 3 -- Title = My Name Is Barbra -- genre = Autobiography -- rating = 4.5\n",
      "\n",
      "\n",
      "rank = 4 -- Title = Friends, Lovers, and the Big Terrible Thing: A Memoir -- genre = Memoir -- rating = 4.4\n",
      "\n",
      "\n",
      "rank = 5 -- Title = How to Catch a Turkey -- genre = Childrens, Fiction -- rating = 4.8\n",
      "\n",
      "\n",
      "rank = 6 -- Title = Fourth Wing (The Empyrean, 1) -- genre = Fantasy -- rating = 4.8\n",
      "\n",
      "\n",
      "rank = 7 -- Title = Unwoke: How to Defeat Cultural Marxism in America -- genre = Nonfiction, Politics -- rating = 4.3\n",
      "\n",
      "\n",
      "rank = 8 -- Title = No Brainer (Diary of a Wimpy Kid Book 18) -- genre = Humor, Middle Grade -- rating = 4.8\n",
      "\n",
      "\n",
      "rank = 9 -- Title = Killers of the Flower Moon: The Osage Murders and the Birth of the FBI -- genre = Nonfiction, True Crime -- rating = 4.4\n",
      "\n",
      "\n",
      "rank = 10 -- Title = All the Light We Cannot See: A Novel -- genre = Historical Fiction -- rating = 4.5\n",
      "\n",
      "\n",
      "rank = 11 -- Title = The Ballad of Songbirds and Snakes (A Hunger Games Novel) (The Hunger Games) -- genre = Adventure, War, Science fiction, Romance, Action, Thriller -- rating = 4.6\n",
      "\n",
      "\n",
      "rank = 12 -- Title = Night (Night) -- genre = Memoir -- rating = 4.7\n",
      "\n",
      "\n",
      "rank = 13 -- Title = Atomic Habits: An Easy & Proven Way to Build Good Habits & Break Bad Ones -- genre = Self-improvement, Nonfiction -- rating = 4.8\n",
      "\n",
      "\n",
      "rank = 14 -- Title = Stocking Stuffer Mad Libs: World's Greatest Word Game -- genre = Childrens, Storytime,Fiction -- rating = 4.8\n",
      "\n",
      "\n",
      "rank = 15 -- Title = The 48 Laws of Power -- genre = Nonfiction -- rating = 4.7\n",
      "\n",
      "\n",
      "rank = 16 -- Title = The Great Disappearance: 31 Ways to be Rapture Ready -- genre = Spiritual Warfare, Biblical Studies - Prophecy, Christian Theology - Eschatology -- rating = 4.6\n",
      "\n",
      "\n",
      "rank = 17 -- Title = Lessons in Chemistry: A Novel -- genre = Fiction, Historical Fiction -- rating = 4.6\n",
      "\n",
      "\n",
      "rank = 18 -- Title = The Exchange: After The Firm (The Firm Series) -- genre = Literary, Thrillers - Suspense -- rating = 4.1\n",
      "\n",
      "\n",
      "rank = 19 -- Title = Taylor Swift: A Little Golden Book Biography -- genre = Picture Books, Biography -- rating = 4.9\n",
      "\n",
      "\n",
      "rank = 20 -- Title = Don't Let the Pigeon Drive the Sleigh! -- genre = Picture Books, Christmas, Holiday, Humor, Childrens, Fiction, Animals -- rating = 4.8\n",
      "\n",
      "\n"
     ]
    }
   ],
   "source": [
    "\"\"\"\n",
    "Printing the details for the top 20 ranked books\n",
    "\"\"\"\n",
    "for index, row in df.iterrows():\n",
    "    book_rank = df.at[index,'Rank']\n",
    "    if book_rank > 20:\n",
    "        break\n",
    "    book_title = df.at[index,'book title']\n",
    "    book_price = df.at[index,'book price']\n",
    "    book_genre = df.at[index,'genre']\n",
    "    book_yop = df.at[index,'year of publication']\n",
    "    book_rating = df.at[index,'rating']\n",
    "    print(f'rank = {book_rank} -- Title = {book_title} -- genre = {book_genre} -- rating = {book_rating}')\n",
    "    print()\n",
    "    print()"
   ]
  },
  {
   "cell_type": "code",
   "execution_count": 85,
   "id": "c7940fee",
   "metadata": {
    "execution": {
     "iopub.execute_input": "2023-11-28T04:22:45.294876Z",
     "iopub.status.busy": "2023-11-28T04:22:45.294441Z",
     "iopub.status.idle": "2023-11-28T04:22:45.418098Z",
     "shell.execute_reply": "2023-11-28T04:22:45.415252Z"
    },
    "papermill": {
     "duration": 0.140276,
     "end_time": "2023-11-28T04:22:45.422366",
     "exception": false,
     "start_time": "2023-11-28T04:22:45.282090",
     "status": "completed"
    },
    "tags": []
   },
   "outputs": [
    {
     "name": "stdout",
     "output_type": "stream",
     "text": [
      "Author = Sarah J. Maas -- Count = 5\n",
      "\n",
      "Book = A Court of Thorns and Roses (A Court of Thorns and Roses, 1) --- Rank = 23 --- Points = 78\n",
      "Book = House of Flame and Shadow (Crescent City, 3) --- Rank = 25 --- Points = 76\n",
      "Book = A Court of Thorns and Roses Paperback Box Set (5 books) --- Rank = 47 --- Points = 54\n",
      "Book = A Court of Mist and Fury (A Court of Thorns and Roses, 2) --- Rank = 72 --- Points = 29\n",
      "Book = A Court of Wings and Ruin (A Court of Thorns and Roses, 3) --- Rank = 88 --- Points = 13\n",
      "\n",
      "Total points = 250\n",
      "\n",
      "********\n",
      "Author = Adam Wallace -- Count = 3\n",
      "\n",
      "Book = How to Catch a Turkey --- Rank = 5 --- Points = 96\n",
      "Book = How to Catch a Dinosaur --- Rank = 50 --- Points = 51\n",
      "Book = How to Catch an Elf --- Rank = 67 --- Points = 34\n",
      "\n",
      "Total points = 181\n",
      "\n",
      "********\n",
      "Author = David Grann -- Count = 2\n",
      "\n",
      "Book = Killers of the Flower Moon: The Osage Murders and the Birth of the FBI --- Rank = 9 --- Points = 92\n",
      "Book = The Wager: A Tale of Shipwreck, Mutiny and Murder --- Rank = 98 --- Points = 3\n",
      "\n",
      "Total points = 95\n",
      "\n",
      "********\n",
      "Author = Lucy Score -- Count = 2\n",
      "\n",
      "Book = The Christmas Fix --- Rank = 53 --- Points = 48\n",
      "Book = Things We Never Got Over (Knockemout) --- Rank = 83 --- Points = 18\n",
      "\n",
      "Total points = 66\n",
      "\n",
      "********\n",
      "Author = Suzanne Collins -- Count = 2\n",
      "\n",
      "Book = The Ballad of Songbirds and Snakes (A Hunger Games Novel) (The Hunger Games) --- Rank = 11 --- Points = 90\n",
      "Book = The Ballad of Songbirds and Snakes (A Hunger Games Novel) (The Hunger Games) --- Rank = 87 --- Points = 14\n",
      "\n",
      "Total points = 104\n",
      "\n",
      "********\n",
      "Author = Bill Martin Jr. -- Count = 2\n",
      "\n",
      "Book = Brown Bear, Brown Bear, What Do You See? --- Rank = 30 --- Points = 71\n",
      "Book = Balloons over Broadway: The True Story of the Puppeteer of Macy's Parade (Bank Street College of Education Flora Stieglitz St --- Rank = 31 --- Points = 70\n",
      "\n",
      "Total points = 141\n",
      "\n",
      "********\n",
      "Author = Alice Walstead -- Count = 2\n",
      "\n",
      "Book = How to Know a Person: The Art of Seeing Others Deeply and Being Deeply Seen --- Rank = 34 --- Points = 67\n",
      "Book = Pookie's Thanksgiving (Little Pookie) --- Rank = 37 --- Points = 64\n",
      "\n",
      "Total points = 131\n",
      "\n",
      "********\n",
      "Author = J.K. Rowling -- Count = 2\n",
      "\n",
      "Book = Harry Potter Paperback Box Set (Books 1-7) --- Rank = 80 --- Points = 21\n",
      "Book = Harry Potter and the Prisoner of Azkaban (Harry Potter, Book 3) (MinaLima Edition) --- Rank = 90 --- Points = 11\n",
      "\n",
      "Total points = 32\n",
      "\n",
      "********\n",
      "Author = Rebecca Yarros -- Count = 2\n",
      "\n",
      "Book = Iron Flame (The Empyrean, 2) --- Rank = 1 --- Points = 100\n",
      "Book = Fourth Wing (The Empyrean, 1) --- Rank = 6 --- Points = 95\n",
      "\n",
      "Total points = 195\n",
      "\n",
      "********\n",
      "Author = Keila Shaheen -- Count = 2\n",
      "\n",
      "Book = The Shadow Work Journal: A Guide to Integrate and Transcend your Shadows --- Rank = 58 --- Points = 43\n",
      "Book = The Shadow Work Journal 2nd Edition: a Guide to Integrate and Transcend Your Shadows: The Essential Guidebook for Shadow Work --- Rank = 89 --- Points = 12\n",
      "\n",
      "Total points = 55\n",
      "\n",
      "********\n",
      "Author = Sandra Boynton -- Count = 2\n",
      "\n",
      "Book = The Psychology of Money: Timeless lessons on wealth, greed, and happiness --- Rank = 38 --- Points = 63\n",
      "Book = Moo, Baa, La La La! --- Rank = 91 --- Points = 10\n",
      "\n",
      "Total points = 73\n",
      "\n",
      "********\n",
      "Author = Peter Attia -- Count = 1\n",
      "\n",
      "Book = Outlive: The Science and Art of Longevity --- Rank = 41 --- Points = 60\n",
      "\n",
      "Total points = 60\n",
      "\n",
      "********\n",
      "Author = Not available -- Count = 1\n",
      "\n",
      "Book = My First Library : Boxset of 10 Board Books for Kids (My First Book of) --- Rank = 74 --- Points = 27\n",
      "\n",
      "Total points = 27\n",
      "\n",
      "********\n",
      "Author = Noa Tishby -- Count = 1\n",
      "\n",
      "Book = Israel: A Simple Guide to the Most Misunderstood Country on Earth --- Rank = 78 --- Points = 23\n",
      "\n",
      "Total points = 23\n",
      "\n",
      "********\n",
      "Author = Nicole LePera -- Count = 1\n",
      "\n",
      "Book = How to Be the Love You Seek: Break Cycles, Find Peace, and Heal Your Relationships --- Rank = 46 --- Points = 55\n",
      "\n",
      "Total points = 55\n",
      "\n",
      "********\n",
      "Author = Morgan Housel -- Count = 1\n",
      "\n",
      "Book = The Seven Husbands of Evelyn Hugo: A Novel --- Rank = 39 --- Points = 62\n",
      "\n",
      "Total points = 62\n",
      "\n",
      "********\n",
      "Author = Mo Willems -- Count = 1\n",
      "\n",
      "Book = Don't Let the Pigeon Drive the Sleigh! --- Rank = 20 --- Points = 81\n",
      "\n",
      "Total points = 81\n",
      "\n",
      "********\n",
      "Author =  Penguin Young Readers Licenses ( -- Count = 1\n",
      "\n",
      "Book = Where's Bluey?: A Search-and-Find Book --- Rank = 48 --- Points = 53\n",
      "\n",
      "Total points = 53\n",
      "\n",
      "********\n",
      "Author = Michael Connelly -- Count = 1\n",
      "\n",
      "Book = Resurrection Walk (Lincoln Lawyer) --- Rank = 52 --- Points = 49\n",
      "\n",
      "Total points = 49\n",
      "\n",
      "********\n",
      "Author = Peter Pauper Press -- Count = 1\n",
      "\n",
      "Book = I'm Dead, Now What?: Important Information About My Belongings, Business Affairs, and Wishes --- Rank = 99 --- Points = 2\n",
      "\n",
      "Total points = 2\n",
      "\n",
      "********\n",
      "Author = Matthew Perry -- Count = 1\n",
      "\n",
      "Book = Friends, Lovers, and the Big Terrible Thing: A Memoir --- Rank = 4 --- Points = 97\n",
      "\n",
      "Total points = 97\n",
      "\n",
      "********\n",
      "Author = Matthew McConaughey -- Count = 1\n",
      "\n",
      "Book = Just Because --- Rank = 81 --- Points = 20\n",
      "\n",
      "Total points = 20\n",
      "\n",
      "********\n",
      "Author = Margaret Wise Brown -- Count = 1\n",
      "\n",
      "Book = Goodnight Moon --- Rank = 44 --- Points = 57\n",
      "\n",
      "Total points = 57\n",
      "\n",
      "********\n",
      "Author = Lucille Colandro -- Count = 1\n",
      "\n",
      "Book = There Was an Old Lady Who Swallowed a Turkey! --- Rank = 60 --- Points = 41\n",
      "\n",
      "Total points = 41\n",
      "\n",
      "********\n",
      "Author = Leigh Olsen -- Count = 1\n",
      "\n",
      "Book = Stocking Stuffer Mad Libs: World's Greatest Word Game --- Rank = 14 --- Points = 87\n",
      "\n",
      "Total points = 87\n",
      "\n",
      "********\n",
      "Author = Melissa Sweet -- Count = 1\n",
      "\n",
      "Book = The Four Agreements: A Practical Guide to Personal Freedom (A Toltec Wisdom Book) --- Rank = 32 --- Points = 69\n",
      "\n",
      "Total points = 69\n",
      "\n",
      "********\n",
      "Author = Rick Rubin -- Count = 1\n",
      "\n",
      "Book = The Creative Act: A Way of Being --- Rank = 73 --- Points = 28\n",
      "\n",
      "Total points = 28\n",
      "\n",
      "********\n",
      "Author = Rashid Khalidi -- Count = 1\n",
      "\n",
      "Book = Hundred Years' War on Palestine --- Rank = 42 --- Points = 59\n",
      "\n",
      "Total points = 59\n",
      "\n",
      "********\n",
      "Author = Rick Riordan -- Count = 1\n",
      "\n",
      "Book = Percy Jackson and the Olympians: The Chalice of the Gods (Percy Jackson & the Olympians) --- Rank = 94 --- Points = 7\n",
      "\n",
      "Total points = 7\n",
      "\n",
      "********\n",
      "Author = Workman Publishing -- Count = 1\n",
      "\n",
      "Book = Paint by Sticker Kids: Christmas: Create 10 Pictures One Sticker at a Time! Includes Glitter Stickers --- Rank = 85 --- Points = 16\n",
      "\n",
      "Total points = 16\n",
      "\n",
      "********\n",
      "Author = Wendi Silvano -- Count = 1\n",
      "\n",
      "Book = Turkey Trouble --- Rank = 21 --- Points = 80\n",
      "\n",
      "Total points = 80\n",
      "\n",
      "********\n",
      "Author = Walter Isaacson -- Count = 1\n",
      "\n",
      "Book = Elon Musk --- Rank = 61 --- Points = 40\n",
      "\n",
      "Total points = 40\n",
      "\n",
      "********\n",
      "Author = Unknown -- Count = 1\n",
      "\n",
      "Book = Unwoke: How to Defeat Cultural Marxism in America --- Rank = 7 --- Points = 94\n",
      "\n",
      "Total points = 94\n",
      "\n",
      "********\n",
      "Author = Taylor Jenkins Reid -- Count = 1\n",
      "\n",
      "Book = I Love You to the Moon and Back --- Rank = 40 --- Points = 61\n",
      "\n",
      "Total points = 61\n",
      "\n",
      "********\n",
      "Author = Snoop Dogg -- Count = 1\n",
      "\n",
      "Book = From Crook to Cook: Platinum Recipes from Tha Boss Dogg's Kitchen (Snoop Dogg Cookbook, Celebrity Cookbook with Soul Food Rec --- Rank = 57 --- Points = 44\n",
      "\n",
      "Total points = 44\n",
      "\n",
      "********\n",
      "Author = Sherri Duskey Rinker -- Count = 1\n",
      "\n",
      "Book = Goodnight, Goodnight Construction Site (Board Book for Toddlers, Children's Board Book) --- Rank = 27 --- Points = 74\n",
      "\n",
      "Total points = 74\n",
      "\n",
      "********\n",
      "Author = Sheri Wall -- Count = 1\n",
      "\n",
      "Book = I Am Thankful: A Thanksgiving Book for Kids --- Rank = 45 --- Points = 56\n",
      "\n",
      "Total points = 56\n",
      "\n",
      "********\n",
      "Author = Shelby Van Pelt -- Count = 1\n",
      "\n",
      "Book = Remarkably Bright Creatures: A Read with Jenna Pick --- Rank = 79 --- Points = 22\n",
      "\n",
      "Total points = 22\n",
      "\n",
      "********\n",
      "Author = School Zone Publishing -- Count = 1\n",
      "\n",
      "Book = School Zone - Multiplication 0-12 Flash Cards - Ages 8+, 3rd Grade, 4th Grade, Elementary Math, Multiplication Facts, Common  --- Rank = 68 --- Points = 33\n",
      "\n",
      "Total points = 33\n",
      "\n",
      "********\n",
      "Author = Salina Yoon -- Count = 1\n",
      "\n",
      "Book = Five Silly Turkeys --- Rank = 84 --- Points = 17\n",
      "\n",
      "Total points = 17\n",
      "\n",
      "********\n",
      "Author = Rose Rossner -- Count = 1\n",
      "\n",
      "Book = I Love You Like No Otter: A Funny and Sweet Animal Board Book for Babies and Toddlers this Christmas (Punderland) --- Rank = 55 --- Points = 46\n",
      "\n",
      "Total points = 46\n",
      "\n",
      "********\n",
      "Author = Robert Kiyosaki -- Count = 1\n",
      "\n",
      "Book = Rich Dad Poor Dad: What the Rich Teach Their Kids About Money That the Poor and Middle Class Do Not! --- Rank = 93 --- Points = 8\n",
      "\n",
      "Total points = 8\n",
      "\n",
      "********\n",
      "Author = Robert Greene -- Count = 1\n",
      "\n",
      "Book = The 48 Laws of Power --- Rank = 15 --- Points = 86\n",
      "\n",
      "Total points = 86\n",
      "\n",
      "********\n",
      "Author = John Grisham -- Count = 1\n",
      "\n",
      "Book = The Exchange: After The Firm (The Firm Series) --- Rank = 18 --- Points = 83\n",
      "\n",
      "Total points = 83\n",
      "\n",
      "********\n",
      "Author = Jordan Moore -- Count = 1\n",
      "\n",
      "Book = Interesting Facts For Curious Minds: 1572 Random But Mind-Blowing Facts About History, Science, Pop Culture And Everything In --- Rank = 59 --- Points = 42\n",
      "\n",
      "Total points = 42\n",
      "\n",
      "********\n",
      "Author = Janet Evanovich -- Count = 1\n",
      "\n",
      "Book = Dirty Thirty (30) (Stephanie Plum) --- Rank = 66 --- Points = 35\n",
      "\n",
      "Total points = 35\n",
      "\n",
      "********\n",
      "Author = Jennifer Liberts -- Count = 1\n",
      "\n",
      "Book = Paw Patrol Phonics: 12 Books in 1 --- Rank = 95 --- Points = 6\n",
      "\n",
      "Total points = 6\n",
      "\n",
      "********\n",
      "Author = Anna Dewdney -- Count = 1\n",
      "\n",
      "Book = Llama Llama Gives Thanks --- Rank = 63 --- Points = 38\n",
      "\n",
      "Total points = 38\n",
      "\n",
      "********\n",
      "Author = Britney Spears -- Count = 1\n",
      "\n",
      "Book = The Woman in Me --- Rank = 2 --- Points = 99\n",
      "\n",
      "Total points = 99\n",
      "\n",
      "********\n",
      "Author = Bonnie Garmus -- Count = 1\n",
      "\n",
      "Book = Lessons in Chemistry: A Novel --- Rank = 17 --- Points = 84\n",
      "\n",
      "Total points = 84\n",
      "\n",
      "********\n",
      "Author = Bill Martin Jr., John Archambault -- Count = 1\n",
      "\n",
      "Book = Chicka Chicka Boom Boom (Board Book) --- Rank = 56 --- Points = 45\n",
      "\n",
      "Total points = 45\n",
      "\n",
      "********\n",
      "Author = Bessel van der Kolk -- Count = 1\n",
      "\n",
      "Book = The Body Keeps the Score: Brain, Mind, and Body in the Healing of Trauma --- Rank = 22 --- Points = 79\n",
      "\n",
      "Total points = 79\n",
      "\n",
      "********\n",
      "Author = Barbra Streisand -- Count = 1\n",
      "\n",
      "Book = My Name Is Barbra --- Rank = 3 --- Points = 98\n",
      "\n",
      "Total points = 98\n",
      "\n",
      "********\n",
      "Author = Barbara Kingsolver -- Count = 1\n",
      "\n",
      "Book = Demon Copperhead: A Pulitzer Prize Winner --- Rank = 77 --- Points = 24\n",
      "\n",
      "Total points = 24\n",
      "\n",
      "********\n",
      "Author = Anthony Doerr -- Count = 1\n",
      "\n",
      "Book = All the Light We Cannot See: A Novel --- Rank = 10 --- Points = 91\n",
      "\n",
      "Total points = 91\n",
      "\n",
      "********\n",
      "Author = Ann Whitford Paul -- Count = 1\n",
      "\n",
      "Book = If Animals Kissed Good Night --- Rank = 82 --- Points = 19\n",
      "\n",
      "Total points = 19\n",
      "\n",
      "********\n",
      "Author = Colleen Hoover -- Count = 1\n",
      "\n",
      "Book = Verity --- Rank = 71 --- Points = 30\n",
      "\n",
      "Total points = 30\n",
      "\n",
      "********\n",
      "Author = Ann Patchett -- Count = 1\n",
      "\n",
      "Book = Tom Lake: A Reese's Book Club Pick --- Rank = 64 --- Points = 37\n",
      "\n",
      "Total points = 37\n",
      "\n",
      "********\n",
      "Author = Americas Test Kitchen Kids -- Count = 1\n",
      "\n",
      "Book = The Complete Cookbook for Young Chefs: 100+ Recipes that You'll Love to Cook and Eat --- Rank = 62 --- Points = 39\n",
      "\n",
      "Total points = 39\n",
      "\n",
      "********\n",
      "Author = Alice Schertle -- Count = 1\n",
      "\n",
      "Book = Little Blue Truck's Christmas: A Christmas Holiday Book for Kids --- Rank = 43 --- Points = 58\n",
      "\n",
      "Total points = 58\n",
      "\n",
      "********\n",
      "Author = Alice Hemming -- Count = 1\n",
      "\n",
      "Book = The Leaf Thief: (The Perfect Fall Book for Children and Toddlers) --- Rank = 28 --- Points = 73\n",
      "\n",
      "Total points = 73\n",
      "\n",
      "********\n",
      "Author = Adam M. Grant -- Count = 1\n",
      "\n",
      "Book = Hidden Potential: The Science of Achieving Greater Things --- Rank = 51 --- Points = 50\n",
      "\n",
      "Total points = 50\n",
      "\n",
      "********\n",
      "Author = Abraham Verghese -- Count = 1\n",
      "\n",
      "Book = The Covenant of Water (Oprah's Book Club) --- Rank = 65 --- Points = 36\n",
      "\n",
      "Total points = 36\n",
      "\n",
      "********\n",
      "Author =  Wendy Loggia -- Count = 1\n",
      "\n",
      "Book = Taylor Swift: A Little Golden Book Biography --- Rank = 19 --- Points = 82\n",
      "\n",
      "Total points = 82\n",
      "\n",
      "********\n",
      "Author = Christopher Paolini -- Count = 1\n",
      "\n",
      "Book = Murtagh: The World of Eragon (The Inheritance Cycle) --- Rank = 29 --- Points = 72\n",
      "\n",
      "Total points = 72\n",
      "\n",
      "********\n",
      "Author = Craig Smith -- Count = 1\n",
      "\n",
      "Book = The Wonky Donkey --- Rank = 100 --- Points = 1\n",
      "\n",
      "Total points = 1\n",
      "\n",
      "********\n",
      "Author = Jeff Kinney -- Count = 1\n",
      "\n",
      "Book = No Brainer (Diary of a Wimpy Kid Book 18) --- Rank = 8 --- Points = 93\n",
      "\n",
      "Total points = 93\n",
      "\n",
      "********\n",
      "Author = Eric Hill -- Count = 1\n",
      "\n",
      "Book = Where's Spot? --- Rank = 76 --- Points = 25\n",
      "\n",
      "Total points = 25\n",
      "\n",
      "********\n",
      "Author =  Scholastic -- Count = 1\n",
      "\n",
      "Book = Flash Cards: Sight Words --- Rank = 54 --- Points = 47\n",
      "\n",
      "Total points = 47\n",
      "\n",
      "********\n",
      "Author = James Clear -- Count = 1\n",
      "\n",
      "Book = Atomic Habits: An Easy & Proven Way to Build Good Habits & Break Bad Ones --- Rank = 13 --- Points = 88\n",
      "\n",
      "Total points = 88\n",
      "\n",
      "********\n",
      "Author = Hanya Yanagihara -- Count = 1\n",
      "\n",
      "Book = A Little Life --- Rank = 24 --- Points = 77\n",
      "\n",
      "Total points = 77\n",
      "\n",
      "********\n",
      "Author = H.D. Carlton -- Count = 1\n",
      "\n",
      "Book = Haunting Adeline (Cat and Mouse Duet) --- Rank = 70 --- Points = 31\n",
      "\n",
      "Total points = 31\n",
      "\n",
      "********\n",
      "Author = Gary Paulsen -- Count = 1\n",
      "\n",
      "Book = Hatchet --- Rank = 97 --- Points = 4\n",
      "\n",
      "Total points = 4\n",
      "\n",
      "********\n",
      "Author = Gabrielle Lyon -- Count = 1\n",
      "\n",
      "Book = Forever Strong: A New, Science-Based Strategy for Aging Well --- Rank = 75 --- Points = 26\n",
      "\n",
      "Total points = 26\n",
      "\n",
      "********\n",
      "Author = Freida McFadden -- Count = 1\n",
      "\n",
      "Book = The Coworker --- Rank = 92 --- Points = 9\n",
      "\n",
      "Total points = 9\n",
      "\n",
      "********\n",
      "Author = Eric Carle -- Count = 1\n",
      "\n",
      "Book = How to Catch a Reindeer --- Rank = 36 --- Points = 65\n",
      "\n",
      "Total points = 65\n",
      "\n",
      "********\n",
      "Author = David Brooks -- Count = 1\n",
      "\n",
      "Book = The Very Hungry Caterpillar --- Rank = 35 --- Points = 66\n",
      "\n",
      "Total points = 66\n",
      "\n",
      "********\n",
      "Author = Emily Winfield Martin -- Count = 1\n",
      "\n",
      "Book = The Wonderful Things You Will Be --- Rank = 49 --- Points = 52\n",
      "\n",
      "Total points = 52\n",
      "\n",
      "********\n",
      "Author = Emily Giffin -- Count = 1\n",
      "\n",
      "Book = Love Comes First --- Rank = 86 --- Points = 15\n",
      "\n",
      "Total points = 15\n",
      "\n",
      "********\n",
      "Author = Elie Wiesel -- Count = 1\n",
      "\n",
      "Book = Night (Night) --- Rank = 12 --- Points = 89\n",
      "\n",
      "Total points = 89\n",
      "\n",
      "********\n",
      "Author = Editors of Publications International -- Count = 1\n",
      "\n",
      "Book = World of Eric Carle, Around the Farm 30-Button Animal Sound Book - Great for First Words - PI Kids --- Rank = 26 --- Points = 75\n",
      "\n",
      "Total points = 75\n",
      "\n",
      "********\n",
      "Author = Don Miguel Ruiz -- Count = 1\n",
      "\n",
      "Book = The Housemaid --- Rank = 33 --- Points = 68\n",
      "\n",
      "Total points = 68\n",
      "\n",
      "********\n",
      "Author = Deborah Schecter -- Count = 1\n",
      "\n",
      "Book = First Little Readers Parent Pack: Guided Reading Level A: 25 Irresistible Books That Are Just the Right Level for Beginning R --- Rank = 96 --- Points = 5\n",
      "\n",
      "Total points = 5\n",
      "\n",
      "********\n",
      "Author = David Jeremiah -- Count = 1\n",
      "\n",
      "Book = The Great Disappearance: 31 Ways to be Rapture Ready --- Rank = 16 --- Points = 85\n",
      "\n",
      "Total points = 85\n",
      "\n",
      "********\n",
      "Author = duopress labs, Julissa Mora -- Count = 1\n",
      "\n",
      "Book = Hello, Baby Animals: A Durable High-Contrast Black-and-White Board Book for Newborns and Babies (High-Contrast Books) --- Rank = 69 --- Points = 32\n",
      "\n",
      "Total points = 32\n",
      "\n",
      "********\n"
     ]
    }
   ],
   "source": [
    "\"\"\"\n",
    "Code that analyses each author and calculates the number of points they score.\n",
    "\n",
    "For each book an author has in the top 100, their score is the sum of (101 - book_rank):\n",
    "\n",
    "e.g. if an author has rank 1 and 2 books, their score would be\n",
    "(101 - 1) + (101 + 2) = 100 + 99 = 199\n",
    "\n",
    "Printing the complete\n",
    "\"\"\"\n",
    "\n",
    "def calculate_points(df):\n",
    "    \n",
    "    unique,counts = np.unique(df['author'],return_counts = True)\n",
    "    df_authors = pd.DataFrame({\n",
    "        \"Author\":unique,\n",
    "        \"count\":counts\n",
    "    })\n",
    "    df_authors['Points'] = 0\n",
    "    author_list = []\n",
    "    point_list = []\n",
    "    df_authors.sort_values(by='count',ascending=False,inplace=True)\n",
    "    df_authors.reset_index(inplace=True,drop=True)\n",
    "\n",
    "    # Printing the top 10 entries sorted by number of books in top 100\n",
    "    for index, _ in df_authors.iterrows():\n",
    "        author = df_authors.at[index,'Author']\n",
    "        count = df_authors.at[index,'count']\n",
    "        print(f\"Author = {author} -- Count = {count}\")\n",
    "        print()\n",
    "        df_books_author = df[df['author'] == author]\n",
    "        points = 0\n",
    "        author_list.append(author)\n",
    "        for i,_ in df_books_author.iterrows():\n",
    "            score = 101 - df_books_author.at[i,'Rank']\n",
    "            points = points + score\n",
    "            print(f\"Book = {df_books_author.at[i,'book title']} --- Rank = {df_books_author.at[i,'Rank']} --- Points = {score}\")\n",
    "        df_authors.at[index,'Points'] = points\n",
    "        point_list.append(points)\n",
    "        print()\n",
    "        print(f\"Total points = {points}\")\n",
    "        print()\n",
    "        print('********')\n",
    "    return df_authors\n",
    "\n",
    "df_authors = calculate_points(df)"
   ]
  },
  {
   "cell_type": "code",
   "execution_count": 80,
   "id": "4deec833",
   "metadata": {
    "execution": {
     "iopub.execute_input": "2023-11-28T04:22:45.447792Z",
     "iopub.status.busy": "2023-11-28T04:22:45.447306Z",
     "iopub.status.idle": "2023-11-28T04:22:45.467628Z",
     "shell.execute_reply": "2023-11-28T04:22:45.466150Z"
    },
    "papermill": {
     "duration": 0.038797,
     "end_time": "2023-11-28T04:22:45.472342",
     "exception": false,
     "start_time": "2023-11-28T04:22:45.433545",
     "status": "completed"
    },
    "tags": []
   },
   "outputs": [
    {
     "data": {
      "text/html": [
       "<div>\n",
       "<style scoped>\n",
       "    .dataframe tbody tr th:only-of-type {\n",
       "        vertical-align: middle;\n",
       "    }\n",
       "\n",
       "    .dataframe tbody tr th {\n",
       "        vertical-align: top;\n",
       "    }\n",
       "\n",
       "    .dataframe thead th {\n",
       "        text-align: right;\n",
       "    }\n",
       "</style>\n",
       "<table border=\"1\" class=\"dataframe\">\n",
       "  <thead>\n",
       "    <tr style=\"text-align: right;\">\n",
       "      <th></th>\n",
       "      <th>Author</th>\n",
       "      <th>count</th>\n",
       "      <th>Points</th>\n",
       "    </tr>\n",
       "  </thead>\n",
       "  <tbody>\n",
       "    <tr>\n",
       "      <th>0</th>\n",
       "      <td>Sarah J. Maas</td>\n",
       "      <td>5</td>\n",
       "      <td>250</td>\n",
       "    </tr>\n",
       "    <tr>\n",
       "      <th>1</th>\n",
       "      <td>Rebecca Yarros</td>\n",
       "      <td>2</td>\n",
       "      <td>195</td>\n",
       "    </tr>\n",
       "    <tr>\n",
       "      <th>2</th>\n",
       "      <td>Adam Wallace</td>\n",
       "      <td>3</td>\n",
       "      <td>181</td>\n",
       "    </tr>\n",
       "    <tr>\n",
       "      <th>3</th>\n",
       "      <td>Bill Martin Jr.</td>\n",
       "      <td>2</td>\n",
       "      <td>141</td>\n",
       "    </tr>\n",
       "    <tr>\n",
       "      <th>4</th>\n",
       "      <td>Alice Walstead</td>\n",
       "      <td>2</td>\n",
       "      <td>131</td>\n",
       "    </tr>\n",
       "    <tr>\n",
       "      <th>5</th>\n",
       "      <td>Suzanne Collins</td>\n",
       "      <td>2</td>\n",
       "      <td>104</td>\n",
       "    </tr>\n",
       "    <tr>\n",
       "      <th>6</th>\n",
       "      <td>Britney Spears</td>\n",
       "      <td>1</td>\n",
       "      <td>99</td>\n",
       "    </tr>\n",
       "    <tr>\n",
       "      <th>7</th>\n",
       "      <td>Barbra Streisand</td>\n",
       "      <td>1</td>\n",
       "      <td>98</td>\n",
       "    </tr>\n",
       "    <tr>\n",
       "      <th>8</th>\n",
       "      <td>Matthew Perry</td>\n",
       "      <td>1</td>\n",
       "      <td>97</td>\n",
       "    </tr>\n",
       "    <tr>\n",
       "      <th>9</th>\n",
       "      <td>David Grann</td>\n",
       "      <td>2</td>\n",
       "      <td>95</td>\n",
       "    </tr>\n",
       "  </tbody>\n",
       "</table>\n",
       "</div>"
      ],
      "text/plain": [
       "             Author  count  Points\n",
       "0     Sarah J. Maas      5     250\n",
       "1    Rebecca Yarros      2     195\n",
       "2      Adam Wallace      3     181\n",
       "3   Bill Martin Jr.      2     141\n",
       "4    Alice Walstead      2     131\n",
       "5   Suzanne Collins      2     104\n",
       "6    Britney Spears      1      99\n",
       "7  Barbra Streisand      1      98\n",
       "8     Matthew Perry      1      97\n",
       "9       David Grann      2      95"
      ]
     },
     "execution_count": 80,
     "metadata": {},
     "output_type": "execute_result"
    }
   ],
   "source": [
    "\"\"\"\n",
    "Highest ranking authors based on the scoring system\n",
    "\"\"\"\n",
    "\n",
    "df_authors.sort_values(by='Points',ascending=False,inplace=True)\n",
    "df_authors.reset_index(inplace=True,drop=True)\n",
    "df_authors.head(10)"
   ]
  },
  {
   "cell_type": "code",
   "execution_count": 83,
   "id": "e466f623",
   "metadata": {
    "papermill": {
     "duration": 0.011354,
     "end_time": "2023-11-28T04:22:45.560795",
     "exception": false,
     "start_time": "2023-11-28T04:22:45.549441",
     "status": "completed"
    },
    "tags": []
   },
   "outputs": [
    {
     "name": "stdout",
     "output_type": "stream",
     "text": [
      "***********\n",
      "File = aus_top_selling_books_16_02_2024_14_46_16.csv\n",
      "Author = Sarah J. Maas -- Count = 5\n",
      "\n",
      "Book = A Court of Thorns and Roses Paperback Box Set (5 books): The first five books of the hottest fantasy series and TikTok sensation: 1-5 --- Rank = 11 --- Points = 90\n",
      "Book = House of Flame and Shadow: The BESTSELLING and SMOULDERING third instalment in the Crescent City series --- Rank = 21 --- Points = 80\n",
      "Book = A Court of Thorns and Roses: The hottest Tiktok sensation: 1 --- Rank = 37 --- Points = 64\n",
      "Book = Throne of Glass Box Set (Paperback) --- Rank = 48 --- Points = 53\n",
      "Book = House of Earth and Blood: The first instalment of the EPIC Crescent City series from multi-million and #1 Sunday Times bestselling author Sarah J. Maas --- Rank = 50 --- Points = 51\n",
      "\n",
      "Total points = 338\n",
      "\n",
      "********\n",
      "Author = H. D. Carlton -- Count = 3\n",
      "\n",
      "Book = Where's Molly --- Rank = 14 --- Points = 87\n",
      "Book = Haunting Adeline --- Rank = 26 --- Points = 75\n",
      "Book = Hunting Adeline --- Rank = 46 --- Points = 55\n",
      "\n",
      "Total points = 217\n",
      "\n",
      "********\n",
      "Author = Trent Dalton -- Count = 2\n",
      "\n",
      "Book = Boy Swallows Universe - Trent Dalton: The beloved multi-award winning international bestseller, now a major Netflix series --- Rank = 5 --- Points = 96\n",
      "Book = Lola in the Mirror: The heartbreaking and inspiring new novel from the award-winning author of Australia's favourite bestsellers Boy Swallows Universe, Love Stories and All Our Shimmering Skies --- Rank = 7 --- Points = 94\n",
      "\n",
      "Total points = 190\n",
      "\n",
      "********\n",
      "Author = Laura Nowlin -- Count = 2\n",
      "\n",
      "Book = If Only I Had Told Her: The Instant #1 Sunday Times Bestseller and Global TikTok Phenomenon --- Rank = 16 --- Points = 85\n",
      "Book = If He Had Been with Me: The Tiktok Sensation --- Rank = 29 --- Points = 72\n",
      "\n",
      "Total points = 157\n",
      "\n",
      "********\n",
      "Author = School Zone -- Count = 2\n",
      "\n",
      "Book = Year 3 NAPLAN*-style Complete Workbook and Tests --- Rank = 8 --- Points = 93\n",
      "Book = Year 5 NAPLAN*-style Complete Workbook and Tests --- Rank = 24 --- Points = 77\n",
      "\n",
      "Total points = 170\n",
      "\n",
      "********\n",
      "Author = Freida McFadden -- Count = 2\n",
      "\n",
      "Book = The Housemaid: An absolutely addictive psychological thriller with a jaw-dropping twist --- Rank = 15 --- Points = 86\n",
      "Book = The Teacher: From the Sunday Times Bestselling Author of The Housemaid --- Rank = 30 --- Points = 71\n",
      "\n",
      "Total points = 157\n",
      "\n",
      "********\n",
      "Author = Rebecca Yarros -- Count = 2\n",
      "\n",
      "Book = Iron Flame: The Empyrean Bk 2 --- Rank = 10 --- Points = 91\n",
      "Book = Fourth Wing: Your New Fantasy Romance Obsession Starts Here! --- Rank = 20 --- Points = 81\n",
      "\n",
      "Total points = 172\n",
      "\n",
      "********\n",
      "Author = Amir Levine -- Count = 1\n",
      "\n",
      "Book = Attached: Are you Anxious, Avoidant or Secure? How the Science of Adult Attachment can Help You Find – and Keep – Love --- Rank = 44 --- Points = 57\n",
      "\n",
      "Total points = 57\n",
      "\n",
      "********\n",
      "Author = Robert Greene -- Count = 1\n",
      "\n",
      "Book = The 48 Laws Of Power: 1 --- Rank = 22 --- Points = 79\n",
      "\n",
      "Total points = 79\n",
      "\n",
      "********\n",
      "Author = Nicole Maguire -- Count = 1\n",
      "\n",
      "Book = The Simple Dinner Edit: Simplify your cooking with 80+ fast, low-cost dinner ideas --- Rank = 1 --- Points = 100\n",
      "\n",
      "Total points = 100\n",
      "\n",
      "********\n",
      "Author = Patrice Karst -- Count = 1\n",
      "\n",
      "Book = The Invisible String: 1 --- Rank = 18 --- Points = 83\n",
      "\n",
      "Total points = 83\n",
      "\n",
      "********\n",
      "Author = Paulo Coelho -- Count = 1\n",
      "\n",
      "Book = The Alchemist, 25th Anniversary: A Fable About Following Your Dream --- Rank = 43 --- Points = 58\n",
      "\n",
      "Total points = 58\n",
      "\n",
      "********\n",
      "Author = Rebecca Kuang -- Count = 1\n",
      "\n",
      "Book = Yellowface: The instant #1 Sunday Times bestseller and Reese Witherspoon Book Club pick from author R.F. Kuang --- Rank = 31 --- Points = 70\n",
      "\n",
      "Total points = 70\n",
      "\n",
      "********\n",
      "Author = STEVE FOXE -- Count = 1\n",
      "\n",
      "Book = LGB Super Mario Little Golden Book (Nintendo) --- Rank = 45 --- Points = 56\n",
      "\n",
      "Total points = 56\n",
      "\n",
      "********\n",
      "Author = Robert T. Kiyosaki -- Count = 1\n",
      "\n",
      "Book = Rich Dad Poor Dad: What the Rich Teach Their Kids About Money That the Poor and Middle Class Do Not! --- Rank = 28 --- Points = 73\n",
      "\n",
      "Total points = 73\n",
      "\n",
      "********\n",
      "Author = Marion Cocklico -- Count = 1\n",
      "\n",
      "Book = No More Nappies: A Potty-Training Book --- Rank = 6 --- Points = 95\n",
      "\n",
      "Total points = 95\n",
      "\n",
      "********\n",
      "Author = Scott Pape -- Count = 1\n",
      "\n",
      "Book = The Barefoot Investor --- Rank = 23 --- Points = 78\n",
      "\n",
      "Total points = 78\n",
      "\n",
      "********\n",
      "Author = Stella Baggott -- Count = 1\n",
      "\n",
      "Book = Babys Very First Black and White Little Library --- Rank = 40 --- Points = 61\n",
      "\n",
      "Total points = 61\n",
      "\n",
      "********\n",
      "Author = Tina Payne Bryson -- Count = 1\n",
      "\n",
      "Book = The Whole-Brain Child: 12 revolutionary strategies to Nurture Your Child's Developing Mind --- Rank = 49 --- Points = 52\n",
      "\n",
      "Total points = 52\n",
      "\n",
      "********\n",
      "Author = Tony Robbins -- Count = 1\n",
      "\n",
      "Book = The Holy Grail of Investing: The World's Greatest Investors Reveal Their Ultimate Strategies for Financial Freedom --- Rank = 35 --- Points = 66\n",
      "\n",
      "Total points = 66\n",
      "\n",
      "********\n",
      "Author = Nagi Maehashi -- Count = 1\n",
      "\n",
      "Book = RecipeTin Eats: Dinner: 150 recipes from Australia’s most popular cook --- Rank = 3 --- Points = 98\n",
      "\n",
      "Total points = 98\n",
      "\n",
      "********\n",
      "Author = MD, Peter Attia, -- Count = 1\n",
      "\n",
      "Book = Outlive: The Science and Art of Longevity --- Rank = 12 --- Points = 89\n",
      "\n",
      "Total points = 89\n",
      "\n",
      "********\n",
      "Author = Marcus Aurelius -- Count = 1\n",
      "\n",
      "Book = Meditations --- Rank = 38 --- Points = 63\n",
      "\n",
      "Total points = 63\n",
      "\n",
      "********\n",
      "Author = Dolly Alderton -- Count = 1\n",
      "\n",
      "Book = Good Material: THE INSTANT SUNDAY TIMES BESTSELLER, FROM THE AUTHOR OF EVERYTHING I KNOW ABOUT LOVE --- Rank = 36 --- Points = 65\n",
      "\n",
      "Total points = 65\n",
      "\n",
      "********\n",
      "Author = Bessel Van Der Kolk -- Count = 1\n",
      "\n",
      "Book = The Body Keeps the Score: Mind, Brain and Body in the Transformation of Trauma --- Rank = 19 --- Points = 82\n",
      "\n",
      "Total points = 82\n",
      "\n",
      "********\n",
      "Author = Brynne Weaver -- Count = 1\n",
      "\n",
      "Book = Butcher and Blackbird --- Rank = 33 --- Points = 68\n",
      "\n",
      "Total points = 68\n",
      "\n",
      "********\n",
      "Author = Chris Voss -- Count = 1\n",
      "\n",
      "Book = Never Split the Difference: Negotiating as if Your Life Depended on It --- Rank = 25 --- Points = 76\n",
      "\n",
      "Total points = 76\n",
      "\n",
      "********\n",
      "Author = Colleen Hoover -- Count = 1\n",
      "\n",
      "Book = It Ends With Us: The emotional #1 Sunday Times bestseller --- Rank = 47 --- Points = 54\n",
      "\n",
      "Total points = 54\n",
      "\n",
      "********\n",
      "Author = Daniel Kahneman -- Count = 1\n",
      "\n",
      "Book = Thinking, Fast and Slow --- Rank = 32 --- Points = 69\n",
      "\n",
      "Total points = 69\n",
      "\n",
      "********\n",
      "Author = David Goggins -- Count = 1\n",
      "\n",
      "Book = Can't Hurt Me: Master Your Mind and Defy the Odds --- Rank = 34 --- Points = 67\n",
      "\n",
      "Total points = 67\n",
      "\n",
      "********\n",
      "Author = Gabrielle Zevin -- Count = 1\n",
      "\n",
      "Book = Tomorrow, and Tomorrow, and Tomorrow: Treat yourself to the Sunday Times #1 bestseller this New Year --- Rank = 13 --- Points = 88\n",
      "\n",
      "Total points = 88\n",
      "\n",
      "********\n",
      "Author = Arie Kaplan -- Count = 1\n",
      "\n",
      "Book = 96 Facts About Taylor Swift: Quizzes, Quotes, Questions, and More! With Bonus Journal Pages for Writing! --- Rank = 17 --- Points = 84\n",
      "\n",
      "Total points = 84\n",
      "\n",
      "********\n",
      "Author = Héctor García -- Count = 1\n",
      "\n",
      "Book = Ikigai: The Japanese secret to a long and happy life --- Rank = 9 --- Points = 92\n",
      "\n",
      "Total points = 92\n",
      "\n",
      "********\n",
      "Author = James Clear -- Count = 1\n",
      "\n",
      "Book = Atomic Habits: the life-changing million-copy #1 bestseller --- Rank = 2 --- Points = 99\n",
      "\n",
      "Total points = 99\n",
      "\n",
      "********\n",
      "Author = Jessa Hastings -- Count = 1\n",
      "\n",
      "Book = Magnolia Parks: Into the Dark: Book 5 The BRAND NEW book in the Magnolia Parks Universe series --- Rank = 4 --- Points = 97\n",
      "\n",
      "Total points = 97\n",
      "\n",
      "********\n",
      "Author = Klutz -- Count = 1\n",
      "\n",
      "Book = Lego: Gear Bots (Klutz): Create 8 Machines --- Rank = 27 --- Points = 74\n",
      "\n",
      "Total points = 74\n",
      "\n",
      "********\n",
      "Author = Lauren Roberts -- Count = 1\n",
      "\n",
      "Book = Powerless: TikTok made me buy it! An epic and sizzling fantasy romance not to be missed --- Rank = 39 --- Points = 62\n",
      "\n",
      "Total points = 62\n",
      "\n",
      "********\n",
      "Author = Lisa Jewell -- Count = 1\n",
      "\n",
      "Book = None of This is True: Her lies could kill you --- Rank = 42 --- Points = 59\n",
      "\n",
      "Total points = 59\n",
      "\n",
      "********\n",
      "Author = Tui Sutherland -- Count = 1\n",
      "\n",
      "Book = Winter Turning: The Graphic Novel (Wings of Fire, Book Seven) --- Rank = 41 --- Points = 60\n",
      "\n",
      "Total points = 60\n",
      "\n",
      "********\n",
      "***********\n"
     ]
    }
   ],
   "source": [
    "\"\"\"\n",
    "import the data from recently scraped Australia amazon store. Then calculate the number of points each author scores using the calculate_points function\n",
    "\"\"\"\n",
    "\n",
    "file = \"aus_top_selling_books_16_02_2024_14_46_16.csv\"\n",
    "df_aus = pd.read_csv(f'../DATA/AUS/{file}')\n",
    "print(f\"File = {file}\")\n",
    "df_aus_points = calculate_points(df_aus)\n",
    "df_aus_points.sort_values(by='Points',ascending=False,inplace=True)\n",
    "df_aus_points.reset_index(inplace=True,drop=True)"
   ]
  },
  {
   "cell_type": "code",
   "execution_count": 86,
   "id": "9e9354fd",
   "metadata": {},
   "outputs": [
    {
     "data": {
      "text/html": [
       "<div>\n",
       "<style scoped>\n",
       "    .dataframe tbody tr th:only-of-type {\n",
       "        vertical-align: middle;\n",
       "    }\n",
       "\n",
       "    .dataframe tbody tr th {\n",
       "        vertical-align: top;\n",
       "    }\n",
       "\n",
       "    .dataframe thead th {\n",
       "        text-align: right;\n",
       "    }\n",
       "</style>\n",
       "<table border=\"1\" class=\"dataframe\">\n",
       "  <thead>\n",
       "    <tr style=\"text-align: right;\">\n",
       "      <th></th>\n",
       "      <th>Author</th>\n",
       "      <th>count</th>\n",
       "      <th>Points</th>\n",
       "    </tr>\n",
       "  </thead>\n",
       "  <tbody>\n",
       "    <tr>\n",
       "      <th>0</th>\n",
       "      <td>Sarah J. Maas</td>\n",
       "      <td>5</td>\n",
       "      <td>338</td>\n",
       "    </tr>\n",
       "    <tr>\n",
       "      <th>1</th>\n",
       "      <td>H. D. Carlton</td>\n",
       "      <td>3</td>\n",
       "      <td>217</td>\n",
       "    </tr>\n",
       "    <tr>\n",
       "      <th>2</th>\n",
       "      <td>Trent Dalton</td>\n",
       "      <td>2</td>\n",
       "      <td>190</td>\n",
       "    </tr>\n",
       "    <tr>\n",
       "      <th>3</th>\n",
       "      <td>Rebecca Yarros</td>\n",
       "      <td>2</td>\n",
       "      <td>172</td>\n",
       "    </tr>\n",
       "    <tr>\n",
       "      <th>4</th>\n",
       "      <td>School Zone</td>\n",
       "      <td>2</td>\n",
       "      <td>170</td>\n",
       "    </tr>\n",
       "    <tr>\n",
       "      <th>5</th>\n",
       "      <td>Laura Nowlin</td>\n",
       "      <td>2</td>\n",
       "      <td>157</td>\n",
       "    </tr>\n",
       "    <tr>\n",
       "      <th>6</th>\n",
       "      <td>Freida McFadden</td>\n",
       "      <td>2</td>\n",
       "      <td>157</td>\n",
       "    </tr>\n",
       "    <tr>\n",
       "      <th>7</th>\n",
       "      <td>Nicole Maguire</td>\n",
       "      <td>1</td>\n",
       "      <td>100</td>\n",
       "    </tr>\n",
       "    <tr>\n",
       "      <th>8</th>\n",
       "      <td>James Clear</td>\n",
       "      <td>1</td>\n",
       "      <td>99</td>\n",
       "    </tr>\n",
       "    <tr>\n",
       "      <th>9</th>\n",
       "      <td>Nagi Maehashi</td>\n",
       "      <td>1</td>\n",
       "      <td>98</td>\n",
       "    </tr>\n",
       "  </tbody>\n",
       "</table>\n",
       "</div>"
      ],
      "text/plain": [
       "            Author  count  Points\n",
       "0    Sarah J. Maas      5     338\n",
       "1    H. D. Carlton      3     217\n",
       "2     Trent Dalton      2     190\n",
       "3   Rebecca Yarros      2     172\n",
       "4      School Zone      2     170\n",
       "5     Laura Nowlin      2     157\n",
       "6  Freida McFadden      2     157\n",
       "7   Nicole Maguire      1     100\n",
       "8      James Clear      1      99\n",
       "9    Nagi Maehashi      1      98"
      ]
     },
     "execution_count": 86,
     "metadata": {},
     "output_type": "execute_result"
    }
   ],
   "source": [
    "df_aus_points.head(10)"
   ]
  }
 ],
 "metadata": {
  "kaggle": {
   "accelerator": "none",
   "dataSources": [
    {
     "datasetId": 3968810,
     "sourceId": 6926747,
     "sourceType": "datasetVersion"
    }
   ],
   "dockerImageVersionId": 30587,
   "isGpuEnabled": false,
   "isInternetEnabled": false,
   "language": "python",
   "sourceType": "notebook"
  },
  "kernelspec": {
   "display_name": "Python 3",
   "language": "python",
   "name": "python3"
  },
  "language_info": {
   "codemirror_mode": {
    "name": "ipython",
    "version": 3
   },
   "file_extension": ".py",
   "mimetype": "text/x-python",
   "name": "python",
   "nbconvert_exporter": "python",
   "pygments_lexer": "ipython3",
   "version": "3.9.0"
  },
  "papermill": {
   "default_parameters": {},
   "duration": 9.418282,
   "end_time": "2023-11-28T04:22:46.597824",
   "environment_variables": {},
   "exception": null,
   "input_path": "__notebook__.ipynb",
   "output_path": "__notebook__.ipynb",
   "parameters": {},
   "start_time": "2023-11-28T04:22:37.179542",
   "version": "2.4.0"
  }
 },
 "nbformat": 4,
 "nbformat_minor": 5
}
